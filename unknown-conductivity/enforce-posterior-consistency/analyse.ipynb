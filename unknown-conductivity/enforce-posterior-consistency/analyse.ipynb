{
 "cells": [
  {
   "cell_type": "markdown",
   "metadata": {},
   "source": [
    "# A Note on this Notebook\n",
    "This analyses data produced by running the `solve.sh` script in this directory.\n",
    "Graphs are produced corresponding to data that was output."
   ]
  },
  {
   "cell_type": "markdown",
   "metadata": {},
   "source": [
    "# Problem Description\n",
    "\n",
    "We try to enforce posterior consistency in the non-point-cloud case by redefining our objective functional\n",
    "\n",
    "$$J''[u, q] = \n",
    "\\underbrace{ N \\int_{\\Omega}\\left(u_{interpolated} - u\\right)^2dx}_{\\text{model-data misfit}} + \n",
    "\\underbrace{\\alpha^2\\int_\\Omega|\\nabla q|^2dx}_{\\text{regularization}}$$\n",
    "\n",
    "which is the same as $J'$ but where $J''_{\\text{misfit}} = N \\times J'_{\\text{misfit}}$ to try to allow the misfit term to grow with number of measurements.\n",
    "\n",
    "$\\alpha = 0.02$ is used throughout."
   ]
  },
  {
   "cell_type": "markdown",
   "metadata": {},
   "source": [
    "# Setup"
   ]
  },
  {
   "cell_type": "code",
   "execution_count": null,
   "metadata": {},
   "outputs": [],
   "source": [
    "import matplotlib.pyplot as plt\n",
    "import firedrake\n",
    "\n",
    "import numpy as np\n",
    "from numpy import pi as π\n",
    "from numpy import random\n",
    "\n",
    "import matplotlib.pyplot as plt\n",
    "from mpl_toolkits.axes_grid1 import make_axes_locatable\n",
    "\n",
    "import os, sys\n",
    "\n",
    "import h5py\n",
    "\n",
    "currentdir = os.path.dirname(os.path.realpath('__file__'))"
   ]
  },
  {
   "cell_type": "code",
   "execution_count": null,
   "metadata": {},
   "outputs": [],
   "source": [
    "mesh = firedrake.UnitSquareMesh(32, 32)\n",
    "\n",
    "# Solution Space\n",
    "V = firedrake.FunctionSpace(mesh, family='CG', degree=2)\n",
    "\n",
    "# q (Control) Space\n",
    "Q = firedrake.FunctionSpace(mesh, family='CG', degree=2)"
   ]
  },
  {
   "cell_type": "markdown",
   "metadata": {},
   "source": [
    "## Load $u_{true}$ and $q_{true}$"
   ]
  },
  {
   "cell_type": "code",
   "execution_count": null,
   "metadata": {},
   "outputs": [],
   "source": [
    "u_true = firedrake.Function(V)\n",
    "q_true = firedrake.Function(Q)\n",
    "\n",
    "filename = os.path.join(currentdir, 'true-fields')\n",
    "with firedrake.DumbCheckpoint(filename, mode=firedrake.FILE_READ) as chk:\n",
    "    chk.load(q_true, name='q_true')\n",
    "    chk.load(u_true, name='u_true')"
   ]
  },
  {
   "cell_type": "markdown",
   "metadata": {},
   "source": [
    "# Plot Results"
   ]
  },
  {
   "cell_type": "code",
   "execution_count": null,
   "metadata": {},
   "outputs": [],
   "source": [
    "num_points_set = [1, 2, 4, 8, 16, 32, 64, 128, 256, 512, 1024, 2048, 4096, 8192, 16384, 32768, 65536, 131072, 262144]\n",
    "methods = ['point-cloud', 'nearest', 'linear', 'clough-tocher', 'gaussian']\n",
    "l2_q_norms = {method: [] for method in methods}\n",
    "l2_u_norms = {method: [] for method in methods}"
   ]
  },
  {
   "cell_type": "markdown",
   "metadata": {},
   "source": [
    "## Plot Fields and Save L2 Error Norms"
   ]
  },
  {
   "cell_type": "code",
   "execution_count": null,
   "metadata": {},
   "outputs": [],
   "source": [
    "for num_points in num_points_set:\n",
    "\n",
    "    # Test Loading and adjust plots as necessary\n",
    "    filename = os.path.join(currentdir, 'observed-data.h5')\n",
    "    try:\n",
    "        with h5py.File(filename, 'r') as file:\n",
    "            xs = file[f\"xs_{num_points}\"][:]\n",
    "            u_obs_vals = file[f\"u_obs_vals_{num_points}\"][:]\n",
    "            σ = firedrake.Constant(file[f\"sigma_{num_points}\"])\n",
    "    except:\n",
    "        # Can't load so move on\n",
    "        continue\n",
    "    methods_available = []        \n",
    "    for method in methods:\n",
    "        try:\n",
    "            filename = os.path.join(currentdir, 'q-estimations')\n",
    "            with firedrake.DumbCheckpoint(filename, mode=firedrake.FILE_READ) as chk:\n",
    "                if method != 'point-cloud':\n",
    "                    u_interpolated = firedrake.Function(V)\n",
    "                    chk.load(u_interpolated, name=f'u_interpolated_{method}_{num_points}')\n",
    "                q_min = firedrake.Function(Q)\n",
    "                chk.load(q_min, name=f'q_min_{method}_{num_points}')\n",
    "                q_err = firedrake.Function(Q)\n",
    "                chk.load(q_err, name=f'q_err_{method}_{num_points}')\n",
    "                methods_available.append(method)            \n",
    "        except:\n",
    "            pass\n",
    "    if len(methods_available) == 0:\n",
    "        # Nothing to plot so move on\n",
    "        continue\n",
    "\n",
    "    # Setup Plot\n",
    "    ukw = {'vmin': 0.0, 'vmax': +0.2}\n",
    "    kw = {'vmin': -4, 'vmax': +4, 'shading': 'gouraud'}\n",
    "    title_fontsize = 20\n",
    "    text_fontsize = 20\n",
    "    fig, axes = plt.subplots(ncols=3, nrows=1+len(methods_available), sharex=True, sharey=True, figsize=(20,30), dpi=200)\n",
    "    plt.suptitle('Estimating Log-Conductivity $q$ \\n    where $k = k_0e^q$ and $-\\\\nabla \\\\cdot k \\\\nabla u = f$ for known $f$', fontsize=title_fontsize)\n",
    "    for ax in axes.ravel():\n",
    "        ax.set_aspect('equal')\n",
    "\n",
    "    # Column 0\n",
    "    axes[0, 0].set_title('$u_{true}$', fontsize=title_fontsize)\n",
    "    colors = firedrake.tripcolor(u_true, axes=axes[0, 0], shading='gouraud', **ukw)\n",
    "    cax = make_axes_locatable(axes[0, 0]).append_axes(\"right\", size=\"5%\", pad=0.05)\n",
    "    fig.colorbar(colors, cax=cax)\n",
    "\n",
    "    # Column 1\n",
    "    axes[0, 1].set_title('$q_{true}$', fontsize=title_fontsize)\n",
    "    colors = firedrake.tripcolor(q_true, axes=axes[0, 1], **kw)\n",
    "    cax = make_axes_locatable(axes[0, 1]).append_axes(\"right\", size=\"5%\", pad=0.05)\n",
    "    fig.colorbar(colors, cax=cax)\n",
    "\n",
    "    # Column 2\n",
    "    axes[0, 2].set_title('$q_{true}-q_{true}$', fontsize=title_fontsize)\n",
    "    zero_func = firedrake.Function(Q).assign(q_true-q_true)\n",
    "    axes[0, 2].text(0.5, 0.5, f'$L^2$ Norm {firedrake.norm(zero_func, \"L2\"):.2f}', ha='center', fontsize=text_fontsize)\n",
    "    colors = firedrake.tripcolor(zero_func, axes=axes[0, 2], **kw);\n",
    "    cax = make_axes_locatable(axes[0, 2]).append_axes(\"right\", size=\"5%\", pad=0.05)\n",
    "    fig.colorbar(colors, cax=cax)\n",
    "\n",
    "    for method_i, method in enumerate(methods_available):\n",
    "\n",
    "        # Load fields\n",
    "        filename = os.path.join(currentdir, 'q-estimations')\n",
    "        with firedrake.DumbCheckpoint(filename, mode=firedrake.FILE_READ) as chk:\n",
    "            if method != 'point-cloud':\n",
    "                u_interpolated = firedrake.Function(V)\n",
    "                chk.load(u_interpolated, name=f'u_interpolated_{method}_{num_points}')\n",
    "            q_min = firedrake.Function(Q)\n",
    "            chk.load(q_min, name=f'q_min_{method}_{num_points}')\n",
    "            q_err = firedrake.Function(Q)\n",
    "            chk.load(q_err, name=f'q_err_{method}_{num_points}')\n",
    "\n",
    "        # Recalculate l2 norm error and save in l2_q_norms and l2_u_norms\n",
    "        l2_q_norm = firedrake.norm(q_err, \"L2\")\n",
    "        l2_q_norms[method].append((num_points, l2_q_norm))\n",
    "        if method != 'point-cloud':\n",
    "            u_err = firedrake.Function(Q).assign(u_interpolated-u_true)\n",
    "            l2_u_norm = firedrake.norm(u_err, \"L2\")\n",
    "            l2_u_norms[method].append((num_points, l2_u_norm))\n",
    "\n",
    "        row = method_i+1\n",
    "\n",
    "        # column 0\n",
    "        if method == 'point-cloud':\n",
    "            axes[row, 0].set_title('Sampled Noisy $u_{obs}$', fontsize=title_fontsize)\n",
    "            colors = axes[row, 0].scatter(xs[:, 0], xs[:, 1], c=u_obs_vals, vmin=0.0, vmax=0.2)\n",
    "        else:\n",
    "            axes[row, 0].set_title(f'$u_{{interpolated}}^{{{method}}}$', fontsize=title_fontsize)\n",
    "            colors = firedrake.tripcolor(u_interpolated, axes=axes[row, 0], shading='gouraud', **ukw)\n",
    "        cax = make_axes_locatable(axes[row, 0]).append_axes(\"right\", size=\"5%\", pad=0.05)\n",
    "        fig.colorbar(colors, cax=cax)\n",
    "\n",
    "        # column 1\n",
    "        if method == 'point-cloud':\n",
    "            axes[row, 1].set_title('$q_{est}$ from $u_{obs}$', fontsize=title_fontsize)\n",
    "        else:\n",
    "            axes[row, 1].set_title(f'$q_{{est}}^{{{method}}}$ from $u_{{interpolated}}^{{{method}}}$', fontsize=title_fontsize)\n",
    "        colors = firedrake.tripcolor(q_min, axes=axes[row, 1], **kw)\n",
    "        cax = make_axes_locatable(axes[row, 1]).append_axes(\"right\", size=\"5%\", pad=0.05)\n",
    "        fig.colorbar(colors, cax=cax)\n",
    "\n",
    "        # column 2\n",
    "        axes[row, 2].set_title('$q_{est}-q_{true}$', fontsize=title_fontsize)\n",
    "        axes[row, 2].text(0.5, 0.5, f'$L^2$ Norm {l2_q_norm:.2f}', ha='center', fontsize=text_fontsize)\n",
    "        colors = firedrake.tripcolor(q_err, axes=axes[row, 2], **kw);\n",
    "        cax = make_axes_locatable(axes[row, 2]).append_axes(\"right\", size=\"5%\", pad=0.05)\n",
    "        fig.colorbar(colors, cax=cax)\n",
    "\n",
    "    # Save figure\n",
    "    plt.savefig(f'posterior-consistency-{num_points}-pts.png')\n",
    "        \n",
    "    # Close to save memory\n",
    "    plt.close(fig)\n"
   ]
  },
  {
   "cell_type": "markdown",
   "metadata": {},
   "source": [
    "## Plot L2 Errors"
   ]
  },
  {
   "cell_type": "code",
   "execution_count": null,
   "metadata": {},
   "outputs": [],
   "source": [
    "cmap = plt.get_cmap(\"tab10\")\n",
    "fig, ax = plt.subplots(dpi=200)\n",
    "ax.set_xscale('log', basex=2)\n",
    "for i, method in enumerate(methods):\n",
    "    arr = np.asarray(l2_q_norms[method])\n",
    "    method_num_points = arr[:,0]\n",
    "    method_l2_q_norms = arr[:,1]\n",
    "    ax.plot(method_num_points, method_l2_q_norms, marker='o', color=cmap(i))\n",
    "ax.legend(methods, title='Method')\n",
    "ax.set_xlabel('Number of Points N')\n",
    "ax.set_ylabel('$||q_{est}-q_{true}||_{L^2}$')\n",
    "ax.set_title('Estimating Log-Conductivity $q$ \\n    where $k = k_0e^q$ and $-\\\\nabla \\\\cdot k \\\\nabla u = f$ for known $f$')\n",
    "plt.savefig(f'l2_q_norms.png')"
   ]
  },
  {
   "cell_type": "code",
   "execution_count": null,
   "metadata": {},
   "outputs": [],
   "source": [
    "cmap = plt.get_cmap(\"tab10\")\n",
    "fig, ax = plt.subplots(dpi=200)\n",
    "ax.set_xscale('log', basex=2)\n",
    "valid_methods = []\n",
    "for i, method in enumerate(methods):\n",
    "    arr = np.asarray(l2_u_norms[method])\n",
    "    if len(arr.shape) != 2:\n",
    "        continue\n",
    "    valid_methods.append(method)\n",
    "    method_num_points = arr[:,0]\n",
    "    method_l2_u_norms = arr[:,1]\n",
    "    ax.plot(method_num_points, method_l2_u_norms, marker='o', color=cmap(i))\n",
    "ax.legend(valid_methods, title='Method')\n",
    "ax.set_xlabel('Number of Points N')\n",
    "ax.set_ylabel('$||u_{interpolated}-u_{true}||_{L^2}$')\n",
    "ax.set_title('Estimating Log-Conductivity $q$ \\n    where $k = k_0e^q$ and $-\\\\nabla \\\\cdot k \\\\nabla u = f$ for known $f$')\n",
    "plt.savefig(f'l2_u_norms.png')"
   ]
  },
  {
   "cell_type": "code",
   "execution_count": null,
   "metadata": {},
   "outputs": [],
   "source": []
  }
 ],
 "metadata": {
  "kernelspec": {
   "display_name": "Python 3",
   "language": "python",
   "name": "python3"
  },
  "language_info": {
   "codemirror_mode": {
    "name": "ipython",
    "version": 3
   },
   "file_extension": ".py",
   "mimetype": "text/x-python",
   "name": "python",
   "nbconvert_exporter": "python",
   "pygments_lexer": "ipython3",
   "version": "3.8.10"
  }
 },
 "nbformat": 4,
 "nbformat_minor": 4
}
