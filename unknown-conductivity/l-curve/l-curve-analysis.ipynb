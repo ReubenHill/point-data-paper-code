{
 "cells": [
  {
   "cell_type": "code",
   "execution_count": null,
   "metadata": {},
   "outputs": [],
   "source": [
    "import matplotlib.pyplot as plt\n",
    "import pandas as pd\n",
    "import os\n",
    "import os, sys\n",
    "import numpy as np\n",
    "currentdir = os.path.dirname(os.path.realpath('__file__'))\n",
    "parentdir = os.path.dirname(currentdir)\n"
   ]
  },
  {
   "cell_type": "code",
   "execution_count": null,
   "metadata": {},
   "outputs": [],
   "source": [
    "%matplotlib widget"
   ]
  },
  {
   "cell_type": "code",
   "execution_count": null,
   "metadata": {},
   "outputs": [],
   "source": [
    "filename = currentdir+'/J_regularisation_div_pars.csv'\n",
    "df = pd.read_csv(filename)\n",
    "df['α'] = df['alpha']\n",
    "del df['alpha']"
   ]
  },
  {
   "cell_type": "code",
   "execution_count": null,
   "metadata": {},
   "outputs": [],
   "source": [
    "df1 = df.set_index('α')\n",
    "df1 = df1.sort_index()\n",
    "axes = df1.plot(logy=True, logx=True, marker='o')\n",
    "axes.legend(title='Method')\n",
    "axes.set_xlabel(r'$\\alpha$')\n",
    "axes.set_ylabel(r'$1/\\alpha^2 \\times J_{regularisation}$')\n",
    "axes.set_title(f'Regularisation Terms')\n",
    "plt.savefig(f'Regularisation Terms.png')\n",
    "plt.show()"
   ]
  },
  {
   "cell_type": "code",
   "execution_count": null,
   "metadata": {},
   "outputs": [],
   "source": [
    "filename = currentdir+'/J_misfits.csv'\n",
    "df = pd.read_csv(filename)\n",
    "df['α'] = df['alpha']\n",
    "del df['alpha']"
   ]
  },
  {
   "cell_type": "code",
   "execution_count": null,
   "metadata": {
    "scrolled": true
   },
   "outputs": [],
   "source": [
    "df1 = df.set_index('α')\n",
    "df1 = df1.sort_index()\n",
    "axes = df1.plot(logy=True, marker='o')\n",
    "axes.legend(title='Method')\n",
    "axes.set_xlabel(r'$\\alpha$')\n",
    "axes.set_ylabel('$J_{misfit}$')\n",
    "axes.set_title(f'Misfit Terms')\n",
    "plt.savefig(f'Misfit Terms.png')\n",
    "plt.show()"
   ]
  },
  {
   "cell_type": "code",
   "execution_count": null,
   "metadata": {},
   "outputs": [],
   "source": [
    "filename = currentdir+'/J_regularisation_div_pars.csv'\n",
    "J_regularisation_div_pars_df = pd.read_csv(filename)\n",
    "J_regularisation_div_pars_df.set_index('alpha', inplace=True)\n",
    "J_regularisation_div_pars_df.index.rename('α', inplace=True)\n",
    "J_regularisation_div_pars_df.sort_index(inplace=True)"
   ]
  },
  {
   "cell_type": "code",
   "execution_count": null,
   "metadata": {},
   "outputs": [],
   "source": [
    "filename = currentdir+'/J_misfits.csv'\n",
    "J_misfits_df = pd.read_csv(filename)\n",
    "J_misfits_df.set_index('alpha', inplace=True)\n",
    "J_misfits_df.index.rename('α', inplace=True)\n",
    "J_misfits_df.sort_index(inplace=True)"
   ]
  },
  {
   "cell_type": "code",
   "execution_count": null,
   "metadata": {},
   "outputs": [],
   "source": [
    "# Temporarily remove point clouds so we can still make l-curves with existing plot logic\n",
    "del J_regularisation_div_pars_df['point-cloud']\n",
    "del J_misfits_df['point-cloud']"
   ]
  },
  {
   "cell_type": "code",
   "execution_count": null,
   "metadata": {
    "scrolled": false
   },
   "outputs": [],
   "source": [
    "fig, axes = plt.subplots(2,2, figsize=(10,10), dpi=200)\n",
    "\n",
    "fig.suptitle('L Curves for $J\\'\\'$', fontsize='x-large')\n",
    "\n",
    "assert len(axes.ravel()) == len(J_regularisation_div_pars_df.columns)\n",
    "\n",
    "for i, ax in enumerate(axes.ravel()):\n",
    "    method = J_regularisation_div_pars_df.columns[i]\n",
    "\n",
    "    rg_d_p_df = J_regularisation_div_pars_df[method]\n",
    "    misfits_df = J_misfits_df[method]\n",
    "    \n",
    "# GONE FOR NOW UNTIL DEEMED NECESSARY:\n",
    "#     # Ignore values with small α\n",
    "#     rg_d_p_df = rg_d_p_df[rg_d_p_df.index >= 0.5]\n",
    "#     misfits_df = misfits_df[misfits_df.index >= 0.5]\n",
    "\n",
    "#     # Get rid of regularisation zeros to avoid plotting them\n",
    "#     rg_d_p_df = rg_d_p_df[misfits_df > 0]\n",
    "#     misfits_df = misfits_df[misfits_df > 0]\n",
    "\n",
    "    αs = misfits_df.index\n",
    "\n",
    "    x = np.sqrt(rg_d_p_df)\n",
    "    y = np.sqrt(misfits_df)\n",
    "    ax.semilogy(x, y, label=method, marker='o')\n",
    "    for α in αs:\n",
    "        ax.annotate(f'α = {α}', (x[α], y[α]), fontsize='x-small')\n",
    "# #     ax.legend(title='Interpolation Method')\n",
    "# FIXME:\n",
    "#     ax.set_xlabel(r'$1/\\alpha\\sqrt{J\\'\\'_{regularisation}}$')\n",
    "#     ax.set_ylabel('$\\sqrt{J\\'\\'_{misfit}}$')\n",
    "# TEMP:\n",
    "    ax.set_xlabel('1 over alpha root Jreg')\n",
    "    ax.set_ylabel('J misfit')\n",
    "    ax.set_title(f'\\'{method}\\'')\n",
    "    plt.setp(ax.get_xticklabels(), rotation=20, ha='right')\n",
    "\n",
    "axes[0,0].set(xlabel=None)\n",
    "axes[0,1].set(xlabel=None)\n",
    "axes[0,1].set(ylabel=None)\n",
    "axes[1,1].set(ylabel=None)\n",
    "# plt.tight_layout()\n",
    "plt.show()\n",
    "plt.savefig(f'L Curves.png')"
   ]
  }
 ],
 "metadata": {
  "kernelspec": {
   "display_name": "Python 3 (ipykernel)",
   "language": "python",
   "name": "python3"
  },
  "language_info": {
   "codemirror_mode": {
    "name": "ipython",
    "version": 3
   },
   "file_extension": ".py",
   "mimetype": "text/x-python",
   "name": "python",
   "nbconvert_exporter": "python",
   "pygments_lexer": "ipython3",
   "version": "3.8.12"
  }
 },
 "nbformat": 4,
 "nbformat_minor": 4
}
