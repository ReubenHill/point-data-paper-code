{
 "cells": [
  {
   "cell_type": "code",
   "execution_count": null,
   "metadata": {},
   "outputs": [],
   "source": [
    "import matplotlib.pyplot as plt\n",
    "import pandas as pd\n",
    "import os\n",
    "import os, sys\n",
    "import numpy as np\n",
    "currentdir = os.path.dirname(os.path.realpath('__file__'))\n",
    "parentdir = os.path.dirname(currentdir)\n"
   ]
  },
  {
   "cell_type": "code",
   "execution_count": null,
   "metadata": {},
   "outputs": [],
   "source": [
    "%matplotlib widget"
   ]
  },
  {
   "cell_type": "code",
   "execution_count": null,
   "metadata": {},
   "outputs": [],
   "source": [
    "filename = currentdir+'/J_misfits.csv'\n",
    "J_misfits_df = pd.read_csv(filename)\n",
    "J_misfits_df['α'] = J_misfits_df['alpha']\n",
    "del J_misfits_df['alpha']"
   ]
  },
  {
   "cell_type": "code",
   "execution_count": null,
   "metadata": {},
   "outputs": [],
   "source": [
    "J_misfits_df = J_misfits_df.set_index('α')\n",
    "J_misfits_df = J_misfits_df.sort_index()\n",
    "axes = J_misfits_df.plot(logy=True, logx=True, marker='o')\n",
    "axes.legend(title='Interpolation Method')\n",
    "axes.set_xlabel('$\\\\alpha$')\n",
    "axes.set_ylabel('$J^{field}_{misfit}v$')\n",
    "axes.set_title(f'Field Misfit Terms')\n",
    "plt.savefig(f'Misfit Terms New J Prime.png')\n",
    "plt.show()"
   ]
  },
  {
   "cell_type": "code",
   "execution_count": null,
   "metadata": {},
   "outputs": [],
   "source": [
    "filename = currentdir+'/J_regularisation_div_alphas.csv'\n",
    "J_regularisation_div_alphas_df = pd.read_csv(filename)\n",
    "J_regularisation_div_alphas_df['α'] = J_regularisation_div_alphas_df['alpha']\n",
    "del J_regularisation_div_alphas_df['alpha']"
   ]
  },
  {
   "cell_type": "code",
   "execution_count": null,
   "metadata": {},
   "outputs": [],
   "source": [
    "J_regularisation_div_alphas_df = J_regularisation_div_alphas_df.set_index('α')\n",
    "J_regularisation_div_alphas_df = J_regularisation_div_alphas_df.sort_index()\n",
    "axes = J_regularisation_div_alphas_df.plot(logy=True, logx=True, marker='o')\n",
    "axes.legend(title='Interpolation Method')\n",
    "axes.set_xlabel('$\\\\alpha$')\n",
    "axes.set_ylabel('$J_{regularisation} / \\\\alpha^2$')\n",
    "axes.set_title(f'Regularisation Terms Without Alpha')\n",
    "plt.savefig(f'Regularisation Terms New J Prime.png')\n",
    "plt.show()"
   ]
  },
  {
   "cell_type": "code",
   "execution_count": null,
   "metadata": {},
   "outputs": [],
   "source": [
    "filename = currentdir+'/J_regularisations.csv'\n",
    "J_regularisations_full_df = pd.read_csv(filename)\n",
    "J_regularisations_full_df['α'] = J_regularisations_full_df['alpha']\n",
    "del J_regularisations_full_df['alpha']"
   ]
  },
  {
   "cell_type": "code",
   "execution_count": null,
   "metadata": {},
   "outputs": [],
   "source": [
    "J_regularisations_full_df = J_regularisations_full_df.set_index('α')\n",
    "J_regularisations_full_df = J_regularisations_full_df.sort_index()\n",
    "axes = J_regularisations_full_df.plot(logy=True, logx=True, marker='o')\n",
    "axes.legend(title='Interpolation Method')\n",
    "axes.set_xlabel('$\\\\alpha$')\n",
    "axes.set_ylabel('$J_{regularisation}$')\n",
    "axes.set_title(f'Regularisation Terms')\n",
    "plt.savefig(f'Regularisation Terms With Alpha New J Prime.png')\n",
    "plt.show()"
   ]
  },
  {
   "cell_type": "code",
   "execution_count": null,
   "metadata": {},
   "outputs": [],
   "source": [
    "filename = currentdir+'/J_misfits.csv'\n",
    "J_misfits_df = pd.read_csv(filename)\n",
    "J_misfits_df.set_index('alpha', inplace=True)\n",
    "J_misfits_df.index.rename('α', inplace=True)\n",
    "J_misfits_df.sort_index(inplace=True)\n",
    "J_misfits_df"
   ]
  },
  {
   "cell_type": "code",
   "execution_count": null,
   "metadata": {
    "scrolled": true
   },
   "outputs": [],
   "source": [
    "filename = currentdir+'/J_regularisation_div_alphas.csv'\n",
    "J_regularisation_div_alphas_df = pd.read_csv(filename)\n",
    "J_regularisation_div_alphas_df.set_index('alpha', inplace=True)\n",
    "J_regularisation_div_alphas_df.index.rename('α', inplace=True)\n",
    "J_regularisation_div_alphas_df.sort_index(inplace=True)\n",
    "J_regularisation_div_alphas_df"
   ]
  },
  {
   "cell_type": "code",
   "execution_count": null,
   "metadata": {},
   "outputs": [],
   "source": [
    "fig, axes = plt.subplots(2,2, figsize=(10,10), dpi=200)\n",
    "\n",
    "fig.suptitle('L Curves for $J\\'$', fontsize='x-large')\n",
    "\n",
    "assert len(axes.ravel()) == len(J_misfits_df.columns)\n",
    "\n",
    "# drop duplicates to allow annotation to work\n",
    "J_misfits_df = J_misfits_df.drop_duplicates()\n",
    "J_regularisation_div_alphas_df = J_regularisation_div_alphas_df.drop_duplicates()\n",
    "\n",
    "for i, ax in enumerate(axes.ravel()):\n",
    "    method = J_misfits_df.columns[i]\n",
    "\n",
    "    mf_df = J_misfits_df[method]\n",
    "    reg_d_α_df = J_regularisation_div_alphas_df[method]\n",
    "    \n",
    "#     # Ignore values with small α where misfit term stops getting smaller\n",
    "#     mf_df = mf_df[mf_df.index >= 0.05]\n",
    "#     reg_d_α_df = reg_d_α_df[reg_d_α_df.index >= 0.05]\n",
    "\n",
    "    # Find machine epsilon\n",
    "    try:\n",
    "        eps = np.finfo(reg_d_α_df.dtypes[0]).eps\n",
    "    except KeyError:\n",
    "        eps = np.finfo(reg_d_α_df.dtypes).eps\n",
    "\n",
    "    # Get rid of regularisation zeros to avoid plotting them\n",
    "    mf_df = mf_df[reg_d_α_df > eps]\n",
    "    reg_d_α_df = reg_d_α_df[reg_d_α_df > eps]\n",
    "    αs = reg_d_α_df.index\n",
    "\n",
    "    x = mf_df\n",
    "    y = reg_d_α_df\n",
    "    ax.semilogy(x, y, label=method, marker='o')\n",
    "    for α in αs:\n",
    "        ax.annotate(f'α = {α}', (x[α], y[α]), fontsize='x-small')\n",
    "#     ax.legend(title='Interpolation Method')\n",
    "    ax.set_xlabel('$J^{field}_{misfit}$')\n",
    "    ax.set_ylabel('$J_{regularisation}} / \\\\alpha^2$')\n",
    "    ax.set_title(f'\\'{method}\\' Interpolation')\n",
    "    plt.setp(ax.get_xticklabels(), rotation=20, ha='right')\n",
    "\n",
    "axes[0,0].set(xlabel=None)\n",
    "axes[0,1].set(xlabel=None)\n",
    "axes[0,1].set(ylabel=None)\n",
    "axes[1,1].set(ylabel=None)\n",
    "plt.tight_layout()\n",
    "plt.show()\n",
    "plt.savefig(f'L Curves J Prime.png')"
   ]
  },
  {
   "cell_type": "markdown",
   "metadata": {},
   "source": [
    "# Repeat for $J$"
   ]
  },
  {
   "cell_type": "code",
   "execution_count": null,
   "metadata": {},
   "outputs": [],
   "source": [
    "filename = currentdir+'/J_misfits_point_cloud.csv'\n",
    "J_misfits_df = pd.read_csv(filename)\n",
    "J_misfits_df['α'] = J_misfits_df['alpha']\n",
    "del J_misfits_df['alpha']"
   ]
  },
  {
   "cell_type": "code",
   "execution_count": null,
   "metadata": {},
   "outputs": [],
   "source": [
    "J_misfits_df = J_misfits_df.set_index('α')\n",
    "J_misfits_df = J_misfits_df.sort_index()\n",
    "axes = J_misfits_df.plot(logy=True, logx=True, marker='o')\n",
    "axes.set_xlabel('$\\\\alpha$')\n",
    "axes.set_ylabel('$J^{point}_{misfit}v$')\n",
    "axes.set_title(f'Point Misfit Terms')\n",
    "plt.savefig(f'Misfit Terms J.png')\n",
    "plt.show()"
   ]
  },
  {
   "cell_type": "code",
   "execution_count": null,
   "metadata": {},
   "outputs": [],
   "source": [
    "filename = currentdir+'/J_regularisation_div_alphas_point_cloud.csv'\n",
    "J_regularisation_div_alphas_df = pd.read_csv(filename)\n",
    "J_regularisation_div_alphas_df['α'] = J_regularisation_div_alphas_df['alpha']\n",
    "del J_regularisation_div_alphas_df['alpha']"
   ]
  },
  {
   "cell_type": "code",
   "execution_count": null,
   "metadata": {},
   "outputs": [],
   "source": [
    "J_regularisation_div_alphas_df = J_regularisation_div_alphas_df.set_index('α')\n",
    "J_regularisation_div_alphas_df = J_regularisation_div_alphas_df.sort_index()\n",
    "axes = J_regularisation_div_alphas_df.plot(logy=True, logx=True, marker='o')\n",
    "axes.set_xlabel('$\\\\alpha$')\n",
    "axes.set_ylabel('$J_{regularisation} / \\\\alpha^2$')\n",
    "axes.set_title(f'Regularisation Terms Without Alpha (J)')\n",
    "plt.savefig(f'Regularisation Terms J.png')\n",
    "plt.show()"
   ]
  },
  {
   "cell_type": "code",
   "execution_count": null,
   "metadata": {},
   "outputs": [],
   "source": [
    "filename = currentdir+'/J_regularisations_point_cloud.csv'\n",
    "J_regularisations_full_df = pd.read_csv(filename)\n",
    "J_regularisations_full_df['α'] = J_regularisations_full_df['alpha']\n",
    "del J_regularisations_full_df['alpha']"
   ]
  },
  {
   "cell_type": "code",
   "execution_count": null,
   "metadata": {},
   "outputs": [],
   "source": [
    "J_regularisations_full_df = J_regularisations_full_df.set_index('α')\n",
    "J_regularisations_full_df = J_regularisations_full_df.sort_index()\n",
    "axes = J_regularisations_full_df.plot(logy=True, logx=True, marker='o')\n",
    "axes.set_xlabel('$\\\\alpha$')\n",
    "axes.set_ylabel('$J_{regularisation}$')\n",
    "axes.set_title(f'Regularisation Terms')\n",
    "plt.savefig(f'Regularisation Terms With Alpha J.png')\n",
    "plt.show()"
   ]
  },
  {
   "cell_type": "code",
   "execution_count": null,
   "metadata": {},
   "outputs": [],
   "source": [
    "filename = currentdir+'/J_misfits_point_cloud.csv'\n",
    "J_misfits_df = pd.read_csv(filename)\n",
    "J_misfits_df.set_index('alpha', inplace=True)\n",
    "J_misfits_df.index.rename('α', inplace=True)\n",
    "J_misfits_df.sort_index(inplace=True)\n",
    "J_misfits_df"
   ]
  },
  {
   "cell_type": "code",
   "execution_count": null,
   "metadata": {},
   "outputs": [],
   "source": [
    "filename = currentdir+'/J_regularisation_div_alphas_point_cloud.csv'\n",
    "J_regularisation_div_alphas_df = pd.read_csv(filename)\n",
    "J_regularisation_div_alphas_df.set_index('alpha', inplace=True)\n",
    "J_regularisation_div_alphas_df.index.rename('α', inplace=True)\n",
    "J_regularisation_div_alphas_df.sort_index(inplace=True)\n",
    "J_regularisation_div_alphas_df"
   ]
  },
  {
   "cell_type": "code",
   "execution_count": null,
   "metadata": {},
   "outputs": [],
   "source": [
    "fig, axes = plt.subplots(1,1, figsize=(5,5), dpi=200)\n",
    "\n",
    "fig.suptitle('L Curve for $J$', fontsize='x-large')\n",
    "\n",
    "# drop duplicates to allow annotation to work\n",
    "J_misfits_df = J_misfits_df.drop_duplicates()\n",
    "J_regularisation_div_alphas_df = J_regularisation_div_alphas_df.drop_duplicates()\n",
    "\n",
    "ax = axes\n",
    "i = 0\n",
    "    \n",
    "method = J_misfits_df.columns[i]\n",
    "\n",
    "mf_df = J_misfits_df[method]\n",
    "reg_d_α_df = J_regularisation_div_alphas_df[method]\n",
    "\n",
    "# # Ignore values with small α where misfit term stops getting smaller\n",
    "# mf_df = mf_df[mf_df.index >= 0.05]\n",
    "# reg_d_α_df = reg_d_α_df[reg_d_α_df.index >= 0.05]\n",
    "\n",
    "# Find machine epsilon\n",
    "try:\n",
    "    eps = np.finfo(reg_d_α_df.dtypes[0]).eps\n",
    "except KeyError:\n",
    "    eps = np.finfo(reg_d_α_df.dtypes).eps\n",
    "\n",
    "# Get rid of regularisation zeros to avoid plotting them\n",
    "mf_df = mf_df[reg_d_α_df > eps]\n",
    "reg_d_α_df = reg_d_α_df[reg_d_α_df > eps]\n",
    "αs = reg_d_α_df.index\n",
    "\n",
    "x = mf_df\n",
    "y = reg_d_α_df\n",
    "ax.semilogy(x, y, label=method, marker='o')\n",
    "for α in αs:\n",
    "    ax.annotate(f'α = {α}', (x[α], y[α]), fontsize='x-small')\n",
    "# ax.legend(title='Interpolation Method')\n",
    "ax.set_xlabel('$J^{point}_{misfit}$')\n",
    "ax.set_ylabel('$J_{regularisation}} / \\\\alpha^2$')\n",
    "# ax.set_title(f'\\'{method}\\' Interpolation')\n",
    "plt.setp(ax.get_xticklabels(), rotation=20, ha='right')\n",
    "\n",
    "\n",
    "plt.tight_layout()\n",
    "plt.show()\n",
    "plt.savefig(f'L Curve J.png')"
   ]
  },
  {
   "cell_type": "markdown",
   "metadata": {},
   "source": [
    "# Combine $J$ and $J'$ L curve plots"
   ]
  },
  {
   "cell_type": "code",
   "execution_count": null,
   "metadata": {},
   "outputs": [],
   "source": [
    "# Get J' L curve data\n",
    "filename = currentdir+'/J_misfits.csv'\n",
    "J_misfits_df = pd.read_csv(filename)\n",
    "J_misfits_df.set_index('alpha', inplace=True)\n",
    "J_misfits_df.index.rename('α', inplace=True)\n",
    "J_misfits_df.sort_index(inplace=True)"
   ]
  },
  {
   "cell_type": "code",
   "execution_count": null,
   "metadata": {},
   "outputs": [],
   "source": [
    "filename = currentdir+'/J_regularisation_div_alphas.csv'\n",
    "J_regularisation_div_alphas_df = pd.read_csv(filename)\n",
    "J_regularisation_div_alphas_df.set_index('alpha', inplace=True)\n",
    "J_regularisation_div_alphas_df.index.rename('α', inplace=True)\n",
    "J_regularisation_div_alphas_df.sort_index(inplace=True)"
   ]
  },
  {
   "cell_type": "code",
   "execution_count": null,
   "metadata": {},
   "outputs": [],
   "source": [
    "# Setup plot\n",
    "\n",
    "fig = plt.figure(figsize=(10,10), dpi=200)\n",
    "\n",
    "# J' axes\n",
    "ax0 = plt.subplot2grid(shape=(4,3), loc=(0,0), colspan=1, rowspan=2)\n",
    "ax1 = plt.subplot2grid((4,3), (0,1), colspan=1, rowspan=2)\n",
    "ax2 = plt.subplot2grid((4,3), (2,0), colspan=1, rowspan=2)\n",
    "ax3 = plt.subplot2grid((4,3), (2,1), colspan=1, rowspan=2)\n",
    "# J axis\n",
    "ax4 = plt.subplot2grid((4,3), (1,2), colspan=1, rowspan=2)\n",
    "\n",
    "fig.suptitle('L Curves for $J$ and $J\\'$', fontsize='x-large')"
   ]
  },
  {
   "cell_type": "code",
   "execution_count": null,
   "metadata": {},
   "outputs": [],
   "source": [
    "# Wrap first J' axes in list to recreate first L curve plot\n",
    "axes = [ax0, ax1, ax2, ax3]"
   ]
  },
  {
   "cell_type": "code",
   "execution_count": null,
   "metadata": {},
   "outputs": [],
   "source": [
    "assert len(axes) == len(J_misfits_df.columns)\n",
    "\n",
    "# drop duplicates to allow annotation to work\n",
    "J_misfits_df = J_misfits_df.drop_duplicates()\n",
    "J_regularisation_div_alphas_df = J_regularisation_div_alphas_df.drop_duplicates()\n",
    "\n",
    "for i, ax in enumerate(axes):\n",
    "    method = J_misfits_df.columns[i]\n",
    "\n",
    "    mf_df = J_misfits_df[method]\n",
    "    reg_d_α_df = J_regularisation_div_alphas_df[method]\n",
    "    \n",
    "#     # Ignore values with small α where misfit term stops getting smaller\n",
    "#     mf_df = mf_df[mf_df.index >= 0.05]\n",
    "#     reg_d_α_df = reg_d_α_df[reg_d_α_df.index >= 0.05]\n",
    "\n",
    "    # Find machine epsilon\n",
    "    try:\n",
    "        eps = np.finfo(reg_d_α_df.dtypes[0]).eps\n",
    "    except KeyError:\n",
    "        eps = np.finfo(reg_d_α_df.dtypes).eps\n",
    "\n",
    "    # Get rid of regularisation zeros to avoid plotting them\n",
    "    mf_df = mf_df[reg_d_α_df > eps]\n",
    "    reg_d_α_df = reg_d_α_df[reg_d_α_df > eps]\n",
    "    αs = reg_d_α_df.index\n",
    "\n",
    "    x = mf_df\n",
    "    y = reg_d_α_df\n",
    "    ax.semilogy(x, y, label=method, marker='o')\n",
    "    for α in αs:\n",
    "        ax.annotate(f'α = {α}', (x[α], y[α]), fontsize='x-small')\n",
    "#     ax.legend(title='Interpolation Method')\n",
    "    ax.set_xlabel('$J^{field}_{misfit}$')\n",
    "    ax.set_ylabel('$J_{regularisation}} / \\\\alpha^2$')\n",
    "    ax.set_title(f'\\'{method}\\' Interpolation')\n",
    "    plt.setp(ax.get_xticklabels(), rotation=20, ha='right')\n",
    "\n",
    "# Get rid of Axis labels where not needed\n",
    "axes[0].set(xlabel=None)\n",
    "axes[1].set(xlabel=None)\n",
    "axes[1].set(ylabel=None)\n",
    "axes[3].set(ylabel=None)\n",
    "# plt.tight_layout()\n",
    "plt.show()"
   ]
  },
  {
   "cell_type": "code",
   "execution_count": null,
   "metadata": {},
   "outputs": [],
   "source": [
    "# Get J l-curve data\n",
    "filename = currentdir+'/J_misfits_point_cloud.csv'\n",
    "J_misfits_df = pd.read_csv(filename)\n",
    "J_misfits_df.set_index('alpha', inplace=True)\n",
    "J_misfits_df.index.rename('α', inplace=True)\n",
    "J_misfits_df.sort_index(inplace=True)"
   ]
  },
  {
   "cell_type": "code",
   "execution_count": null,
   "metadata": {},
   "outputs": [],
   "source": [
    "filename = currentdir+'/J_regularisation_div_alphas_point_cloud.csv'\n",
    "J_regularisation_div_alphas_df = pd.read_csv(filename)\n",
    "J_regularisation_div_alphas_df.set_index('alpha', inplace=True)\n",
    "J_regularisation_div_alphas_df.index.rename('α', inplace=True)\n",
    "J_regularisation_div_alphas_df.sort_index(inplace=True)"
   ]
  },
  {
   "cell_type": "code",
   "execution_count": null,
   "metadata": {},
   "outputs": [],
   "source": [
    "# now relable for J L curve\n",
    "ax = ax4\n",
    "i = 0"
   ]
  },
  {
   "cell_type": "code",
   "execution_count": null,
   "metadata": {},
   "outputs": [],
   "source": [
    "# drop duplicates to allow annotation to work\n",
    "J_misfits_df = J_misfits_df.drop_duplicates()\n",
    "J_regularisation_div_alphas_df = J_regularisation_div_alphas_df.drop_duplicates()\n",
    "    \n",
    "method = J_misfits_df.columns[i]\n",
    "\n",
    "mf_df = J_misfits_df[method]\n",
    "reg_d_α_df = J_regularisation_div_alphas_df[method]\n",
    "\n",
    "# # Ignore values with small α where misfit term stops getting smaller\n",
    "# mf_df = mf_df[mf_df.index >= 0.05]\n",
    "# reg_d_α_df = reg_d_α_df[reg_d_α_df.index >= 0.05]\n",
    "\n",
    "# Find machine epsilon\n",
    "try:\n",
    "    eps = np.finfo(reg_d_α_df.dtypes[0]).eps\n",
    "except KeyError:\n",
    "    eps = np.finfo(reg_d_α_df.dtypes).eps\n",
    "\n",
    "# Get rid of regularisation zeros to avoid plotting them\n",
    "mf_df = mf_df[reg_d_α_df > eps]\n",
    "reg_d_α_df = reg_d_α_df[reg_d_α_df > eps]\n",
    "αs = reg_d_α_df.index\n",
    "\n",
    "x = mf_df\n",
    "y = reg_d_α_df\n",
    "ax.semilogy(x, y, label=method, marker='o')\n",
    "for α in αs:\n",
    "    ax.annotate(f'α = {α}', (x[α], y[α]), fontsize='x-small')\n",
    "# ax.legend(title='Interpolation Method')\n",
    "ax.set_xlabel('$J^{point}_{misfit}$')\n",
    "ax.set_ylabel('$J_{regularisation}} / \\\\alpha^2$')\n",
    "ax.set_title('$J^{point}_{misfit}$')\n",
    "plt.setp(ax.get_xticklabels(), rotation=20, ha='right')\n",
    "\n",
    "\n",
    "plt.tight_layout()\n",
    "plt.show()\n",
    "plt.savefig(f'L Curves All.png')"
   ]
  },
  {
   "cell_type": "code",
   "execution_count": null,
   "metadata": {},
   "outputs": [],
   "source": []
  }
 ],
 "metadata": {
  "kernelspec": {
   "display_name": "Python 3 (ipykernel)",
   "language": "python",
   "name": "python3"
  },
  "language_info": {
   "codemirror_mode": {
    "name": "ipython",
    "version": 3
   },
   "file_extension": ".py",
   "mimetype": "text/x-python",
   "name": "python",
   "nbconvert_exporter": "python",
   "pygments_lexer": "ipython3",
   "version": "3.9.10"
  }
 },
 "nbformat": 4,
 "nbformat_minor": 4
}
