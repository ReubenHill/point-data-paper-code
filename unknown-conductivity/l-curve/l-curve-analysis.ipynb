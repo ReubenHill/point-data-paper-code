{
 "cells": [
  {
   "cell_type": "code",
   "execution_count": null,
   "metadata": {},
   "outputs": [],
   "source": [
    "import matplotlib.pyplot as plt\n",
    "import pandas as pd\n",
    "import os\n",
    "import os, sys\n",
    "import numpy as np\n",
    "currentdir = os.path.dirname(os.path.realpath('__file__'))\n",
    "parentdir = os.path.dirname(currentdir)\n"
   ]
  },
  {
   "cell_type": "code",
   "execution_count": null,
   "metadata": {},
   "outputs": [],
   "source": [
    "%matplotlib widget"
   ]
  },
  {
   "cell_type": "code",
   "execution_count": null,
   "metadata": {},
   "outputs": [],
   "source": [
    "filename = currentdir+'/J_misfits.csv'\n",
    "J_misfit_times_vars_df = pd.read_csv(filename)\n",
    "J_misfit_times_vars_df['α'] = J_misfit_times_vars_df['alpha']\n",
    "del J_misfit_times_vars_df['alpha']"
   ]
  },
  {
   "cell_type": "code",
   "execution_count": null,
   "metadata": {},
   "outputs": [],
   "source": [
    "J_misfit_times_vars_df = J_misfit_times_vars_df.set_index('α')\n",
    "J_misfit_times_vars_df = J_misfit_times_vars_df.sort_index()\n",
    "axes = J_misfit_times_vars_df.plot(logy=True, logx=True, marker='o')\n",
    "axes.legend(title='Interpolation Method')\n",
    "axes.set_xlabel('$\\\\alpha$')\n",
    "axes.set_ylabel('$J^{field}_{misfit}v$')\n",
    "axes.set_title(f'Field Misfit Terms')\n",
    "plt.savefig(f'Misfit Terms New J Prime.png')\n",
    "plt.show()"
   ]
  },
  {
   "cell_type": "code",
   "execution_count": null,
   "metadata": {},
   "outputs": [],
   "source": [
    "filename = currentdir+'/J_regularisation_div_alphas.csv'\n",
    "J_regularisations_df = pd.read_csv(filename)\n",
    "J_regularisations_df['α'] = J_regularisations_df['alpha']\n",
    "del J_regularisations_df['alpha']"
   ]
  },
  {
   "cell_type": "code",
   "execution_count": null,
   "metadata": {},
   "outputs": [],
   "source": [
    "J_regularisations_df = J_regularisations_df.set_index('α')\n",
    "J_regularisations_df = J_regularisations_df.sort_index()\n",
    "axes = J_regularisations_df.plot(logy=True, logx=True, marker='o')\n",
    "axes.legend(title='Interpolation Method')\n",
    "axes.set_xlabel('$\\\\alpha$')\n",
    "axes.set_ylabel('$J_{regularisation} / \\\\alpha^2$')\n",
    "axes.set_title(f'Regularisation Terms')\n",
    "plt.savefig(f'Regularisation Terms New J Prime.png')\n",
    "plt.show()"
   ]
  },
  {
   "cell_type": "code",
   "execution_count": null,
   "metadata": {},
   "outputs": [],
   "source": [
    "filename = currentdir+'/J_misfits.csv'\n",
    "J_misfit_times_vars_df = pd.read_csv(filename)\n",
    "J_misfit_times_vars_df.set_index('alpha', inplace=True)\n",
    "J_misfit_times_vars_df.index.rename('α', inplace=True)\n",
    "J_misfit_times_vars_df.sort_index(inplace=True)\n",
    "J_misfit_times_vars_df"
   ]
  },
  {
   "cell_type": "code",
   "execution_count": null,
   "metadata": {},
   "outputs": [],
   "source": [
    "filename = currentdir+'/J_regularisation_div_alphas.csv'\n",
    "J_regularisations_df = pd.read_csv(filename)\n",
    "J_regularisations_df.set_index('alpha', inplace=True)\n",
    "J_regularisations_df.index.rename('α', inplace=True)\n",
    "J_regularisations_df.sort_index(inplace=True)\n",
    "J_regularisations_df"
   ]
  },
  {
   "cell_type": "code",
   "execution_count": null,
   "metadata": {},
   "outputs": [],
   "source": [
    "fig, axes = plt.subplots(2,2, figsize=(10,10), dpi=200)\n",
    "\n",
    "fig.suptitle('L Curves for $J\\'$', fontsize='x-large')\n",
    "\n",
    "assert len(axes.ravel()) == len(J_misfit_times_vars_df.columns)\n",
    "\n",
    "for i, ax in enumerate(axes.ravel()):\n",
    "    method = J_misfit_times_vars_df.columns[i]\n",
    "\n",
    "    mf_t_v_df = J_misfit_times_vars_df[method]\n",
    "    regs_df = J_regularisations_df[method]\n",
    "    \n",
    "#     # Ignore values with small α\n",
    "#     mf_t_v_df = mf_t_v_df[mf_t_v_df.index >= 0.25]\n",
    "#     regs_df = regs_df[regs_df.index >= 0.25]\n",
    "\n",
    "    # Get rid of regularisation zeros to avoid plotting them\n",
    "    eps = np.finfo(regs_df.dtypes).eps\n",
    "    mf_t_v_df = mf_t_v_df[regs_df > eps]\n",
    "    regs_df = regs_df[regs_df > eps]\n",
    "    αs = regs_df.index\n",
    "\n",
    "    x = np.sqrt(mf_t_v_df)\n",
    "    y = np.sqrt(regs_df)\n",
    "    ax.semilogy(x, y, label=method, marker='o')\n",
    "    for α in αs:\n",
    "        ax.annotate(f'α = {α}', (x[α], y[α]), fontsize='x-small')\n",
    "#     ax.legend(title='Interpolation Method')\n",
    "    ax.set_xlabel('$\\\\sqrt{J^{field}_{misfit}}$')\n",
    "    ax.set_ylabel('$\\sqrt{J_{regularisation}} / \\\\alpha$')\n",
    "    ax.set_title(f'\\'{method}\\' Interpolation')\n",
    "    plt.setp(ax.get_xticklabels(), rotation=20, ha='right')\n",
    "\n",
    "axes[0,0].set(xlabel=None)\n",
    "axes[0,1].set(xlabel=None)\n",
    "axes[0,1].set(ylabel=None)\n",
    "axes[1,1].set(ylabel=None)\n",
    "# plt.tight_layout()\n",
    "plt.show()\n",
    "plt.savefig(f'Updated L Curves.png')"
   ]
  },
  {
   "cell_type": "code",
   "execution_count": null,
   "metadata": {},
   "outputs": [],
   "source": []
  }
 ],
 "metadata": {
  "kernelspec": {
   "display_name": "Python 3 (ipykernel)",
   "language": "python",
   "name": "python3"
  },
  "language_info": {
   "codemirror_mode": {
    "name": "ipython",
    "version": 3
   },
   "file_extension": ".py",
   "mimetype": "text/x-python",
   "name": "python",
   "nbconvert_exporter": "python",
   "pygments_lexer": "ipython3",
   "version": "3.8.12"
  }
 },
 "nbformat": 4,
 "nbformat_minor": 4
}
