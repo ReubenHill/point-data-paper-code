{
 "cells": [
  {
   "cell_type": "code",
   "execution_count": null,
   "id": "6b944f47",
   "metadata": {},
   "outputs": [],
   "source": [
    "import firedrake\n",
    "mesh = firedrake.UnitSquareMesh(32, 32, diagonal='crossed')\n",
    "V = firedrake.FunctionSpace(mesh, family='CG', degree=2)\n",
    "Q = firedrake.FunctionSpace(mesh, family='CG', degree=2)"
   ]
  },
  {
   "cell_type": "markdown",
   "id": "1e3438c8",
   "metadata": {},
   "source": [
    "Generate the true solution and the synthetic observational data."
   ]
  },
  {
   "cell_type": "code",
   "execution_count": null,
   "id": "3b1829aa",
   "metadata": {},
   "outputs": [],
   "source": [
    "from firedrake import Constant, cos, sin\n",
    "import numpy as np\n",
    "from numpy import pi as π\n",
    "from numpy import random\n",
    "\n",
    "seed = 1729\n",
    "generator = random.default_rng(seed)\n",
    "\n",
    "degree = 5\n",
    "x = firedrake.SpatialCoordinate(mesh)\n",
    "\n",
    "q_true = firedrake.Function(Q)\n",
    "for k in range(degree):\n",
    "    for l in range(int(np.sqrt(degree**2 - k**2))):\n",
    "        Z = np.sqrt(1 + k**2 + l**2)\n",
    "        ϕ = 2 * π * (k * x[0] + l * x[1])\n",
    "\n",
    "        A_kl = generator.standard_normal() / Z\n",
    "        B_kl = generator.standard_normal() / Z\n",
    "        \n",
    "        expr = Constant(A_kl) * cos(ϕ) + Constant(B_kl) * sin(ϕ)\n",
    "        mode = firedrake.interpolate(expr, Q)\n",
    "        \n",
    "        q_true += mode"
   ]
  },
  {
   "cell_type": "code",
   "execution_count": null,
   "id": "64e3776a",
   "metadata": {},
   "outputs": [],
   "source": [
    "from firedrake import exp, inner, grad, dx\n",
    "u = firedrake.Function(V)\n",
    "f = Constant(1.0)\n",
    "J = (0.5 * exp(q_true) * inner(grad(u), grad(u)) - f * u) * dx\n",
    "bc = firedrake.DirichletBC(V, 0, 'on_boundary')\n",
    "F = firedrake.derivative(J, u)\n",
    "firedrake.solve(F == 0, u, bc)\n",
    "u_true = u.copy(deepcopy=True)"
   ]
  },
  {
   "cell_type": "code",
   "execution_count": null,
   "id": "98c2ced6",
   "metadata": {},
   "outputs": [],
   "source": [
    "num_points = 25\n",
    "δs = np.linspace(-0.5, 2, num_points + 1)\n",
    "X, Y = np.meshgrid(δs, δs)\n",
    "xs = np.vstack((X.flatten(), Y.flatten())).T\n",
    "\n",
    "θ = π / 12\n",
    "R = np.array([\n",
    "    [np.cos(θ), -np.sin(θ)],\n",
    "    [np.sin(θ), np.cos(θ)]\n",
    "])\n",
    "\n",
    "xs = np.array([\n",
    "    x for x in (xs - np.array([0.5, 0.5])) @ R\n",
    "    if (0 <= x[0] <= 1) and (0 <= x[1] <= 1)\n",
    "])"
   ]
  },
  {
   "cell_type": "code",
   "execution_count": null,
   "id": "8447782b",
   "metadata": {},
   "outputs": [],
   "source": [
    "xs.shape"
   ]
  },
  {
   "cell_type": "code",
   "execution_count": null,
   "id": "cffb9b8e",
   "metadata": {},
   "outputs": [],
   "source": [
    "U = u_true.dat.data_ro[:]\n",
    "u_range = U.max() - U.min()\n",
    "signal_to_noise = 20\n",
    "σ = firedrake.Constant(u_range / signal_to_noise)\n",
    "ζ = generator.standard_normal(len(xs))\n",
    "u_obs = np.array(u_true.at(xs)) + float(σ) * ζ"
   ]
  },
  {
   "cell_type": "markdown",
   "id": "afcfae8e",
   "metadata": {},
   "source": [
    "Our finite element mesh is way denser than the observational data."
   ]
  },
  {
   "cell_type": "code",
   "execution_count": null,
   "id": "4e185c20",
   "metadata": {},
   "outputs": [],
   "source": [
    "import matplotlib.pyplot as plt\n",
    "fig, axes = plt.subplots()\n",
    "axes.set_aspect('equal')\n",
    "firedrake.triplot(mesh, axes=axes, interior_kw={'linewidth': 0.25})\n",
    "axes.scatter(xs[:, 0], xs[:, 1], color='tab:blue');"
   ]
  },
  {
   "cell_type": "markdown",
   "id": "082bcf43",
   "metadata": {},
   "source": [
    "The bad thing that geophysicists will do is directly interpolate from the observational data to the finite element representation and treat this interpolated field as the \"observations\", when really quite a lot has been filled in.\n",
    "It's even worse when you consider the fact that there are edge degrees of freedom too, since we used piecewise quadratic basis functions.\n",
    "Let's try every interpolator in scipy and see what the differences look like."
   ]
  },
  {
   "cell_type": "code",
   "execution_count": null,
   "id": "97dc4210",
   "metadata": {},
   "outputs": [],
   "source": [
    "from scipy.interpolate import (\n",
    "    LinearNDInterpolator,\n",
    "    NearestNDInterpolator,\n",
    "    CloughTocher2DInterpolator,\n",
    "    Rbf,\n",
    ")\n",
    "\n",
    "element = Q.ufl_element()\n",
    "Vc = firedrake.VectorFunctionSpace(mesh, element)\n",
    "X = firedrake.interpolate(mesh.coordinates, Vc).dat.data_ro[:]\n",
    "\n",
    "interpolators = {\n",
    "    'nearest': NearestNDInterpolator(xs, u_obs),\n",
    "    'linear': LinearNDInterpolator(xs, u_obs, fill_value=0.0),\n",
    "    'clough-tocher': CloughTocher2DInterpolator(xs, u_obs, fill_value=0.0),\n",
    "    'gaussian': Rbf(xs[:, 0], xs[:, 1], u_obs, function='gaussian'),\n",
    "}\n",
    "\n",
    "interpolated_data = {}\n",
    "for method, interpolator in interpolators.items():\n",
    "    u_interpolated = firedrake.Function(Q)\n",
    "    u_interpolated.dat.data[:] = interpolator(X[:, 0], X[:, 1])\n",
    "    interpolated_data[method] = u_interpolated"
   ]
  },
  {
   "cell_type": "code",
   "execution_count": null,
   "id": "b4ba12e4",
   "metadata": {},
   "outputs": [],
   "source": [
    "fig, axes = plt.subplots(\n",
    "    nrows=1, ncols=len(interpolated_data), sharex=True, sharey=True\n",
    ")\n",
    "for ax in axes:\n",
    "    ax.set_aspect('equal')\n",
    "    ax.get_xaxis().set_visible(False)\n",
    "    ax.get_yaxis().set_visible(False)\n",
    "    \n",
    "for ax, (method, u_o) in zip(axes, interpolated_data.items()):\n",
    "    firedrake.tripcolor(u_o, axes=ax)\n",
    "    ax.set_title(method)"
   ]
  },
  {
   "cell_type": "code",
   "execution_count": null,
   "id": "55a85a58",
   "metadata": {},
   "outputs": [],
   "source": [
    "import firedrake_adjoint\n",
    "\n",
    "results = {}\n",
    "for method, u_o in interpolated_data.items():\n",
    "    u = firedrake.Function(V)\n",
    "    q = firedrake.Function(Q)\n",
    "    J = (0.5 * exp(q) * inner(grad(u), grad(u)) - f * u) * dx\n",
    "    bc = firedrake.DirichletBC(V, 0, 'on_boundary')\n",
    "    F = firedrake.derivative(J, u)\n",
    "    firedrake.solve(F == 0, u, bc)\n",
    "\n",
    "    E = 0.5 * ((u - u_o) / σ)**2 * dx\n",
    "\n",
    "    α = firedrake.Constant(0.05)\n",
    "    R = 0.5 * α**2 * inner(grad(q), grad(q)) * dx\n",
    "    J = firedrake.assemble(E + R)\n",
    "\n",
    "    q̂ = firedrake_adjoint.Control(q)\n",
    "    Ĵ = firedrake_adjoint.ReducedFunctional(J, q̂)\n",
    "\n",
    "    q_min = firedrake_adjoint.minimize(\n",
    "        Ĵ, method='Newton-CG', options={'disp': True}\n",
    "    )\n",
    "    \n",
    "    results[method] = q_min"
   ]
  },
  {
   "cell_type": "code",
   "execution_count": null,
   "id": "2893edaf",
   "metadata": {},
   "outputs": [],
   "source": [
    "fig, axes = plt.subplots(\n",
    "    nrows=1, ncols=len(results), sharex=True, sharey=True\n",
    ")\n",
    "for ax in axes:\n",
    "    ax.set_aspect('equal')\n",
    "    ax.get_xaxis().set_visible(False)\n",
    "    ax.get_yaxis().set_visible(False)\n",
    "    \n",
    "for ax, (method, q) in zip(axes, results.items()):\n",
    "    firedrake.tripcolor(q, axes=ax)\n",
    "    ax.set_title(method)"
   ]
  },
  {
   "cell_type": "markdown",
   "id": "dcbadec1",
   "metadata": {},
   "source": [
    "To evaluate how much of an effect the different interpolation schemes have, we'll print out a matrix of relative distances between the results the true value of the parameters $q_{\\text{true}}$.\n",
    "In many cases the relative distance between two solutions obtained with different approximation methods is an appreciable fraction of the relative distance between one of those solutions and the true solution itself.\n",
    "For example, the relative distance between the solutions $q_{\\text{linear}}$ and $q_{\\text{gaussian}}$ is about a 30\\% of the relative distance between $q_{\\text{linear}}$ and $q_{\\text{true}}$."
   ]
  },
  {
   "cell_type": "code",
   "execution_count": null,
   "id": "52186899",
   "metadata": {},
   "outputs": [],
   "source": [
    "results['exact'] = q_true\n",
    "results = list(results.items())"
   ]
  },
  {
   "cell_type": "code",
   "execution_count": null,
   "id": "305d8df5",
   "metadata": {},
   "outputs": [],
   "source": [
    "print(f\"{'': <15}| \", end=\"\")\n",
    "for method, _ in results:\n",
    "    print(f\"{method: <14}| \", end=\"\")\n",
    "print(f\"{'':-<15}|\" * 6)\n",
    "    \n",
    "for method1, q1 in results:\n",
    "    print(f\"{method1: <15}|\", end=\"\")\n",
    "    for method2, q2 in results:\n",
    "        error = firedrake.norm(q1 - q2) / np.sqrt(firedrake.norm(q1) * firedrake.norm(q2))\n",
    "        print(f\"{error: 14.3f} |\", end=\"\")\n",
    "    print(\"\")"
   ]
  },
  {
   "cell_type": "markdown",
   "metadata": {},
   "source": [
    "Arbitrary algorithmic choices -- like whether you used linear interpolation on a triangulated irregular network or radial basis functions -- should not make such a huge difference in how we do parameter estimation."
   ]
  }
 ],
 "metadata": {
  "kernelspec": {
   "display_name": "firedrake",
   "language": "python",
   "name": "firedrake"
  },
  "language_info": {
   "codemirror_mode": {
    "name": "ipython",
    "version": 3
   },
   "file_extension": ".py",
   "mimetype": "text/x-python",
   "name": "python",
   "nbconvert_exporter": "python",
   "pygments_lexer": "ipython3",
   "version": "3.8.8"
  }
 },
 "nbformat": 4,
 "nbformat_minor": 5
}
