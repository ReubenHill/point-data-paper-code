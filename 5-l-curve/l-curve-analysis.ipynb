{
 "cells": [
  {
   "cell_type": "code",
   "execution_count": 1,
   "metadata": {},
   "outputs": [],
   "source": [
    "import matplotlib.pyplot as plt\n",
    "import pandas as pd\n",
    "import os\n",
    "import os, sys\n",
    "currentdir = os.path.dirname(os.path.realpath('__file__'))\n",
    "parentdir = os.path.dirname(currentdir)\n"
   ]
  },
  {
   "cell_type": "code",
   "execution_count": 2,
   "metadata": {},
   "outputs": [],
   "source": [
    "%matplotlib widget"
   ]
  },
  {
   "cell_type": "code",
   "execution_count": 3,
   "metadata": {},
   "outputs": [],
   "source": [
    "filename = currentdir+'/J_misfit_times_vars.csv'\n",
    "df = pd.read_csv('J_misfit_times_vars.csv')\n",
    "df['σ̂'] = df['sigma_hat']\n",
    "del df['sigma_hat']\n",
    "df['1/σ̂'] = 1./df['σ̂']"
   ]
  },
  {
   "cell_type": "code",
   "execution_count": 4,
   "metadata": {},
   "outputs": [
    {
     "data": {
      "application/vnd.jupyter.widget-view+json": {
       "model_id": "e067731b8e87440c8666ba79785ca9db",
       "version_major": 2,
       "version_minor": 0
      },
      "text/plain": [
       "Canvas(toolbar=Toolbar(toolitems=[('Home', 'Reset original view', 'home', 'home'), ('Back', 'Back to previous …"
      ]
     },
     "metadata": {},
     "output_type": "display_data"
    }
   ],
   "source": [
    "df1 = df.set_index('1/σ̂')\n",
    "del df1['σ̂']\n",
    "df1 = df1.sort_index()\n",
    "axes = df1.plot(xlim = [0,0.1], marker='o')\n",
    "axes.legend(title='Interpolation Method')\n",
    "axes.set_xlabel('$1 / \\hat{\\sigma}$')\n",
    "axes.set_ylabel('$\\hat{\\sigma}^2 \\\\times J_{misfit}$')\n",
    "axes.set_title(f'L Curves')\n",
    "plt.savefig(f'L Curves.png')\n",
    "plt.show()"
   ]
  },
  {
   "cell_type": "code",
   "execution_count": 5,
   "metadata": {},
   "outputs": [
    {
     "data": {
      "application/vnd.jupyter.widget-view+json": {
       "model_id": "1a59df435c884b44b1ce4bb2004d9acc",
       "version_major": 2,
       "version_minor": 0
      },
      "text/plain": [
       "Canvas(toolbar=Toolbar(toolitems=[('Home', 'Reset original view', 'home', 'home'), ('Back', 'Back to previous …"
      ]
     },
     "metadata": {},
     "output_type": "display_data"
    }
   ],
   "source": [
    "df2 = df.set_index('σ̂')\n",
    "del df2['1/σ̂']\n",
    "df2 = df2.sort_index()\n",
    "axes = df2.plot(xlim=[20, 30], marker='o')\n",
    "axes.legend(title='Interpolation Method')\n",
    "axes.set_xlabel('$\\hat{\\sigma}$')\n",
    "axes.set_ylabel('$\\hat{\\sigma}^2 \\\\times J_{misfit}$')\n",
    "axes.set_title(f'Inverse L Curves')\n",
    "plt.savefig(f'Inverse L Curves.png')\n",
    "plt.show()"
   ]
  },
  {
   "cell_type": "code",
   "execution_count": 6,
   "metadata": {},
   "outputs": [],
   "source": [
    "df = pd.read_csv('J_regularisations.csv')\n",
    "df['σ̂'] = df['sigma_hat']\n",
    "del df['sigma_hat']\n",
    "df['1/σ̂'] = 1./df['σ̂']"
   ]
  },
  {
   "cell_type": "code",
   "execution_count": 8,
   "metadata": {},
   "outputs": [
    {
     "data": {
      "application/vnd.jupyter.widget-view+json": {
       "model_id": "0d4b5cfcb6a34befaa95e452f203b308",
       "version_major": 2,
       "version_minor": 0
      },
      "text/plain": [
       "Canvas(toolbar=Toolbar(toolitems=[('Home', 'Reset original view', 'home', 'home'), ('Back', 'Back to previous …"
      ]
     },
     "metadata": {},
     "output_type": "display_data"
    }
   ],
   "source": [
    "df1 = df.set_index('1/σ̂')\n",
    "del df1['σ̂']\n",
    "df1 = df1.sort_index()\n",
    "axes = df1.plot(xlim = [0,0.1], marker='o')\n",
    "axes.legend(title='Interpolation Method')\n",
    "axes.set_xlabel('$1 / \\hat{\\sigma}$')\n",
    "axes.set_ylabel('$J_{regularisation}$')\n",
    "axes.set_title(f'Regularisation Term L Curves')\n",
    "plt.savefig(f'Regularisation Term L Curves.png')\n",
    "plt.show()"
   ]
  },
  {
   "cell_type": "code",
   "execution_count": 11,
   "metadata": {},
   "outputs": [
    {
     "data": {
      "text/plain": [
       "[1.0,\n",
       " 10.0,\n",
       " 100.0,\n",
       " 1000.0,\n",
       " 10000.0,\n",
       " 100000.0,\n",
       " 0.1,\n",
       " 20.0,\n",
       " 30.0,\n",
       " 40.0,\n",
       " 22.0,\n",
       " 24.0,\n",
       " 26.0,\n",
       " 28.0,\n",
       " 25.0,\n",
       " 27.0,\n",
       " 23.0,\n",
       " 23.5,\n",
       " 27.5,\n",
       " 22.5,\n",
       " 22.75,\n",
       " 27.75,\n",
       " 22.25]"
      ]
     },
     "execution_count": 11,
     "metadata": {},
     "output_type": "execute_result"
    }
   ],
   "source": [
    "filename = currentdir+'/J_misfit_times_vars.csv'\n",
    "df = pd.read_csv('J_misfit_times_vars.csv')\n",
    "df['sigma_hat'].values.tolist()"
   ]
  },
  {
   "cell_type": "code",
   "execution_count": null,
   "metadata": {},
   "outputs": [],
   "source": []
  }
 ],
 "metadata": {
  "kernelspec": {
   "display_name": "firedrake",
   "language": "python",
   "name": "firedrake"
  },
  "language_info": {
   "codemirror_mode": {
    "name": "ipython",
    "version": 3
   },
   "file_extension": ".py",
   "mimetype": "text/x-python",
   "name": "python",
   "nbconvert_exporter": "python",
   "pygments_lexer": "ipython3",
   "version": "3.8.10"
  }
 },
 "nbformat": 4,
 "nbformat_minor": 4
}
