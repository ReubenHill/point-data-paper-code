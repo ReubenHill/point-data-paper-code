{
 "cells": [
  {
   "cell_type": "code",
   "execution_count": null,
   "metadata": {},
   "outputs": [],
   "source": [
    "import matplotlib.pyplot as plt\n",
    "import pandas as pd\n",
    "import os\n",
    "import os, sys\n",
    "import numpy as np\n",
    "currentdir = os.path.dirname(os.path.realpath('__file__'))\n",
    "parentdir = os.path.dirname(currentdir)\n"
   ]
  },
  {
   "cell_type": "code",
   "execution_count": null,
   "metadata": {},
   "outputs": [],
   "source": [
    "%matplotlib widget"
   ]
  },
  {
   "cell_type": "code",
   "execution_count": null,
   "metadata": {},
   "outputs": [],
   "source": [
    "filename = currentdir+'/J_misfit_times_vars.csv'\n",
    "df = pd.read_csv(filename)\n",
    "df['σ̂'] = df['sigma_hat']\n",
    "del df['sigma_hat']\n",
    "df['1/σ̂'] = 1./df['σ̂']"
   ]
  },
  {
   "cell_type": "code",
   "execution_count": null,
   "metadata": {},
   "outputs": [],
   "source": [
    "df1 = df.set_index('1/σ̂')\n",
    "del df1['σ̂']\n",
    "df1 = df1.sort_index()\n",
    "axes = df1.plot(logy=True, logx=True, marker='o')\n",
    "axes.legend(title='Interpolation Method')\n",
    "axes.set_xlabel('$1 / \\hat{\\sigma}$')\n",
    "axes.set_ylabel('$\\hat{\\sigma}^2 \\\\times J\\'\\'_{misfit}$')\n",
    "axes.set_title(f'Misfit Terms')\n",
    "plt.savefig(f'Misfit Terms.png')\n",
    "plt.show()"
   ]
  },
  {
   "cell_type": "code",
   "execution_count": null,
   "metadata": {},
   "outputs": [],
   "source": [
    "filename = currentdir+'/J_regularisations.csv'\n",
    "df = pd.read_csv(filename)\n",
    "df['σ̂'] = df['sigma_hat']\n",
    "del df['sigma_hat']\n",
    "df['1/σ̂'] = 1./df['σ̂']"
   ]
  },
  {
   "cell_type": "code",
   "execution_count": null,
   "metadata": {},
   "outputs": [],
   "source": [
    "df1 = df.set_index('1/σ̂')\n",
    "del df1['σ̂']\n",
    "df1 = df1.sort_index()\n",
    "axes = df1.plot(logy=True, marker='o')\n",
    "axes.legend(title='Interpolation Method')\n",
    "axes.set_xlabel('$1 / \\hat{\\sigma}$')\n",
    "axes.set_ylabel('$J_{regularisation}$')\n",
    "axes.set_title(f'Regularisation Terms')\n",
    "plt.savefig(f'Regularisation Terms.png')\n",
    "plt.show()"
   ]
  },
  {
   "cell_type": "code",
   "execution_count": null,
   "metadata": {},
   "outputs": [],
   "source": [
    "filename = currentdir+'/J_misfit_times_vars.csv'\n",
    "J_misfit_times_vars_df = pd.read_csv(filename)\n",
    "J_misfit_times_vars_df.set_index('sigma_hat', inplace=True)\n",
    "J_misfit_times_vars_df.index.rename('σ̂', inplace=True)\n",
    "J_misfit_times_vars_df.sort_index(inplace=True)"
   ]
  },
  {
   "cell_type": "code",
   "execution_count": null,
   "metadata": {},
   "outputs": [],
   "source": [
    "filename = currentdir+'/J_regularisations.csv'\n",
    "J_regularisations_df = pd.read_csv(filename)\n",
    "J_regularisations_df.set_index('sigma_hat', inplace=True)\n",
    "J_regularisations_df.index.rename('σ̂', inplace=True)\n",
    "J_regularisations_df.sort_index(inplace=True)"
   ]
  },
  {
   "cell_type": "code",
   "execution_count": null,
   "metadata": {
    "scrolled": false
   },
   "outputs": [],
   "source": [
    "fig, axes = plt.subplots(2,2, figsize=(10,10), dpi=200)\n",
    "\n",
    "fig.suptitle('L Curves for $J\\'\\'$', fontsize='x-large')\n",
    "\n",
    "assert len(axes.ravel()) == len(J_misfit_times_vars_df.columns)\n",
    "\n",
    "for i, ax in enumerate(axes.ravel()):\n",
    "    method = J_misfit_times_vars_df.columns[i]\n",
    "\n",
    "    mf_t_v_df = J_misfit_times_vars_df[method]\n",
    "    regs_df = J_regularisations_df[method]\n",
    "    \n",
    "    # Ignore values with small σ̂\n",
    "    mf_t_v_df = mf_t_v_df[mf_t_v_df.index >= 0.5]\n",
    "    regs_df = regs_df[regs_df.index >= 0.5]\n",
    "\n",
    "    # Get rid of regularisation zeros to avoid plotting them\n",
    "    mf_t_v_df = mf_t_v_df[regs_df > 0]\n",
    "    regs_df = regs_df[regs_df > 0]\n",
    "    σ̂s = regs_df.index\n",
    "\n",
    "    x = np.sqrt(mf_t_v_df)\n",
    "    y = np.sqrt(regs_df)\n",
    "    ax.semilogy(x, y, label=method, marker='o')\n",
    "    for σ̂ in σ̂s:\n",
    "        ax.annotate(f'σ̂ = {σ̂}', (x[σ̂], y[σ̂]), fontsize='x-small')\n",
    "#     ax.legend(title='Interpolation Method')\n",
    "    ax.set_xlabel('$\\hat{\\sigma}\\sqrt{J\\'\\'_{misfit}}$')\n",
    "    ax.set_ylabel('$\\sqrt{J\\'\\'_{regularisation}}$')\n",
    "    ax.set_title(f'\\'{method}\\' Interpolation')\n",
    "    plt.setp(ax.get_xticklabels(), rotation=20, ha='right')\n",
    "\n",
    "axes[0,0].set(xlabel=None)\n",
    "axes[0,1].set(xlabel=None)\n",
    "axes[0,1].set(ylabel=None)\n",
    "axes[1,1].set(ylabel=None)\n",
    "# plt.tight_layout()\n",
    "plt.show()\n",
    "plt.savefig(f'L Curves.png')"
   ]
  },
  {
   "cell_type": "code",
   "execution_count": null,
   "metadata": {},
   "outputs": [],
   "source": []
  }
 ],
 "metadata": {
  "kernelspec": {
   "display_name": "firedrake",
   "language": "python",
   "name": "firedrake"
  },
  "language_info": {
   "codemirror_mode": {
    "name": "ipython",
    "version": 3
   },
   "file_extension": ".py",
   "mimetype": "text/x-python",
   "name": "python",
   "nbconvert_exporter": "python",
   "pygments_lexer": "ipython3",
   "version": "3.8.10"
  }
 },
 "nbformat": 4,
 "nbformat_minor": 4
}
