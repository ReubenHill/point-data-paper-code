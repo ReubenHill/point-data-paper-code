{
 "cells": [
  {
   "cell_type": "markdown",
   "metadata": {},
   "source": [
    "# The Problem to Solve\n",
    "Here we dive deeper into our nonlinear example and investigate the regularisation we employ.\n",
    "\n",
    "A reminder - the PDE used in the forward model is \n",
    "\n",
    "$$-\\nabla\\cdot k\\nabla u = f$$\n",
    "\n",
    "with strong (Dirichlet) BC on the boundary\n",
    "\n",
    "$$u = 0 \\ \\text{on} \\ \\Gamma$$\n",
    "\n",
    "where we assert conductivity $k$ is positive by\n",
    "\n",
    "$$k = k_0e^q.$$\n",
    "\n",
    "We have a known RHS $f$, take noisy sparse point measurements of the true value $u_{true}$ of our solution $u$, and wish to infer the log-conductivity $q$."
   ]
  },
  {
   "cell_type": "markdown",
   "metadata": {},
   "source": [
    "We solve in 2D on a 32x32 mesh with our solution $u$ and log conductivity $q$ each in CG2 function spaces."
   ]
  },
  {
   "cell_type": "code",
   "execution_count": null,
   "metadata": {},
   "outputs": [],
   "source": [
    "import firedrake\n",
    "import firedrake_adjoint\n",
    "mesh = firedrake.UnitSquareMesh(32, 32)\n",
    "V = firedrake.FunctionSpace(mesh, family='CG', degree=2)\n",
    "Q = firedrake.FunctionSpace(mesh, family='CG', degree=2)"
   ]
  },
  {
   "cell_type": "markdown",
   "metadata": {},
   "source": [
    "# Generating a Fake \"True\" Solution\n",
    "Before diving into solving this inverse problem, we first need to generate some false \"true\" solution from which we will sample our \"observations\"."
   ]
  },
  {
   "cell_type": "markdown",
   "metadata": {},
   "source": [
    "## Fake $q_{true}$\n",
    "We start off by generating some random true value of $q_{true}$ for use in the forward model which we then plot"
   ]
  },
  {
   "cell_type": "code",
   "execution_count": null,
   "metadata": {},
   "outputs": [],
   "source": [
    "from firedrake import Constant, cos, sin\n",
    "import numpy as np\n",
    "from numpy import pi as π\n",
    "from numpy import random\n",
    "import matplotlib.pyplot as plt\n",
    "\n",
    "seed = 1729\n",
    "generator = random.default_rng(seed)\n",
    "\n",
    "degree = 5\n",
    "x = firedrake.SpatialCoordinate(mesh)\n",
    "\n",
    "q_true = firedrake.Function(Q)\n",
    "for k in range(degree):\n",
    "    for l in range(int(np.sqrt(degree**2 - k**2))):\n",
    "        Z = np.sqrt(1 + k**2 + l**2)\n",
    "        ϕ = 2 * π * (k * x[0] + l * x[1])\n",
    "\n",
    "        A_kl = generator.standard_normal() / Z\n",
    "        B_kl = generator.standard_normal() / Z\n",
    "        \n",
    "        expr = Constant(A_kl) * cos(ϕ) + Constant(B_kl) * sin(ϕ)\n",
    "        mode = firedrake.interpolate(expr, Q)\n",
    "        \n",
    "        q_true += mode\n",
    "        \n",
    "import matplotlib.pyplot as plt\n",
    "fig, axes = plt.subplots()\n",
    "axes.set_aspect('equal')\n",
    "colors = firedrake.tripcolor(q_true, axes=axes, shading='gouraud')\n",
    "fig.colorbar(colors);"
   ]
  },
  {
   "cell_type": "markdown",
   "metadata": {},
   "source": [
    "## Fake $u_{true}$\n",
    "Now we compute and plot the true solution $u_{true}$ of the PDE.\n",
    "We rearrange the PDE to be\n",
    "\n",
    "$$-\\nabla\\cdot k_0 e^{q_{true}}\\nabla u_{true} - f = 0$$\n",
    "\n",
    "and enforce the strong (Dirichlet) boundary condition that $u_{true} = 0$ on the domain boundary $\\Gamma$.\n",
    "\n",
    "The weak form of this is then\n",
    "\n",
    "$$ \\int_{\\Omega} k_0 e^{q_{true}} \\nabla u_{true} \\cdot \\nabla v \\,dx - \\int_{\\Omega} f v \\,dx = 0 \\quad \\forall v \\in V \\ \\text{where} \\ u_{true} \\in V$$\n",
    "\n",
    "We set \n",
    "\n",
    "$$k_0 = 0.5$$\n",
    "\n",
    "and\n",
    "\n",
    "$$f = 1.0.$$"
   ]
  },
  {
   "cell_type": "code",
   "execution_count": null,
   "metadata": {},
   "outputs": [],
   "source": [
    "from firedrake import exp, inner, grad, dx\n",
    "u_true = firedrake.Function(V)\n",
    "v = firedrake.TestFunction(V)\n",
    "f = Constant(1.0)\n",
    "k0 = Constant(0.5)\n",
    "bc = firedrake.DirichletBC(V, 0, 'on_boundary')\n",
    "F = (k0 * exp(q_true) * inner(grad(u_true), grad(v)) - f * v) * dx\n",
    "firedrake.solve(F == 0, u_true, bc)\n",
    "\n",
    "fig, axes = plt.subplots()\n",
    "axes.set_aspect('equal')\n",
    "colors = firedrake.tripcolor(u_true, axes=axes, shading='gouraud')\n",
    "fig.colorbar(colors);"
   ]
  },
  {
   "cell_type": "markdown",
   "metadata": {},
   "source": [
    "# Generating Observational Data $u_{obs}$\n",
    "We will create some pretend set of point measurements $u_{obs}$ of the solution $u_{true}$ on some point cloud.\n",
    "\n",
    "## Generating a Point Cloud $\\Omega_v$\n",
    "\n",
    "To begin with we create a regular point cloud. \n",
    "Unlike in the previous example, we choose not to rotate and truncate our data, instead we offset it in from the sides by rescaling then translating.\n",
    "In Firedrake the point cloud is a `VertexOnlyMesh`.\n",
    "We can then plot this on top of our mesh to get a sense of the sparsity."
   ]
  },
  {
   "cell_type": "code",
   "execution_count": null,
   "metadata": {},
   "outputs": [],
   "source": [
    "num_points_side = 5\n",
    "δs = np.linspace(0, 1, num_points_side)\n",
    "X, Y = np.meshgrid(δs, δs)\n",
    "xs = np.vstack((X.flatten(), Y.flatten())).T\n",
    "assert(len(xs) == num_points_side**2)\n",
    "\n",
    "offset = 0.1\n",
    "scaling_factor = 1-2*offset\n",
    "w = scaling_factor\n",
    "h = scaling_factor\n",
    "S = np.array([\n",
    "    [w, 0],\n",
    "    [0, h]\n",
    "])\n",
    "\n",
    "xs = xs @ S\n",
    "xs[:, 0] += offset\n",
    "xs[:, 1] += offset\n",
    "\n",
    "point_cloud = firedrake.VertexOnlyMesh(mesh, xs)\n",
    "# Prove the the point cloud coordinates are correct\n",
    "assert((point_cloud.coordinates.dat.data_ro == xs).all())\n",
    "\n",
    "fig, axes = plt.subplots()\n",
    "axes.set_aspect('equal')\n",
    "firedrake.triplot(mesh, axes)\n",
    "axes.scatter(xs[:, 0], xs[:, 1])"
   ]
  },
  {
   "cell_type": "markdown",
   "metadata": {},
   "source": [
    "## Putting Data on the Point Cloud\n",
    "We now synthesize the observational data $u_{obs}$ by sampling from $u_{true}$ with firedrake's `Function.at` method and adding noise.\n",
    "The observational data are stored as $\\text{P0DG}$ functions on the point cloud `VertexOnlyMesh` i.e. $u_{obs} \\in \\text{P0DG}(\\Omega_v)$."
   ]
  },
  {
   "cell_type": "code",
   "execution_count": null,
   "metadata": {},
   "outputs": [],
   "source": [
    "# Generate \"observed\" data\n",
    "U = u_true.dat.data_ro[:]\n",
    "u_range = U.max() - U.min()\n",
    "signal_to_noise = 20\n",
    "σ = firedrake.Constant(u_range / signal_to_noise)\n",
    "ζ = generator.standard_normal(len(xs))\n",
    "u_obs_vals = np.array(u_true.at(xs)) + float(σ) * ζ\n",
    "\n",
    "# Store data on the point_cloud\n",
    "P0DG = firedrake.FunctionSpace(point_cloud, 'DG', 0)\n",
    "u_obs = firedrake.Function(P0DG)\n",
    "u_obs.dat.data[:] = u_obs_vals"
   ]
  },
  {
   "cell_type": "markdown",
   "metadata": {},
   "source": [
    "# The PDE Constrained Optimisation Problem\n",
    "\n",
    "We can now form our PDE constrained optimisation problem:\n",
    "\n",
    "Given our forward model, we wish to minimise the objective functional\n",
    "\n",
    "$$J[u, q] = \n",
    "\\underbrace{\\frac{1}{2}\\int_{\\Omega_v}\\left(\\frac{u_{obs} - I(u, \\text{P0DG}(\\Omega_v))}{\\sigma}\\right)^2dx}_{\\text{model-data misfit}} + \n",
    "\\underbrace{\\frac{\\alpha^2}{2}\\int_\\Omega|\\nabla q|^2dx}_{\\text{regularization}}$$\n",
    "\n",
    "given a particular value of our \"control\" $q$ in the forward model $u$ when considered as $u(q)$. \n",
    "I.e. the problem is\n",
    "\n",
    "$$\\min_q \\hat{J}[q] = \\min_q J[u(q), q].$$\n",
    "\n",
    "Note we don't need to explicitly form $\\hat{J}$ - pyadjoint will do that for us.\n",
    "\n",
    "The reduced functional is minimised via gradient descent. \n",
    "The chain rule gives us that:\n",
    "\n",
    "$$\\frac{d\\hat{J}}{dq} = \n",
    "\\underbrace{\\frac{\\partial J}{\\partial q}}_{\\text{calculated analytically}} + \n",
    "\\underbrace{\\frac{\\partial J}{\\partial u} \\frac{du}{dq}.}_{\\text{found via solution to adjoint problem automatically with pyadjoint}}$$\n",
    "\n",
    "$I(u, \\text{P0DG}(\\Omega_v))$ is the interpolation operation of the solution to the forward model $u$ into our point data space $\\text{P0DG}(\\Omega_v)$.\n",
    "Crucially this interpolation is now calculable and is annotated in pyadjoint.\n",
    "We can therefore calculate $\\frac{\\partial J}{\\partial u}$ and $\\frac{\\partial J}{\\partial q}$ (which are needed for minimising the reduced functional $\\hat{J}$) using the chain rule since the annotation gives us $\\frac{\\partial I(u, \\text{P0DG}(\\Omega_v))}{\\partial u}$ and $\\frac{\\partial I(u, \\text{P0DG}(\\Omega_v))}{\\partial q}$.\n",
    "\n",
    "For more see the [pyadjoint/dolfin-adjoint documentation](http://www.dolfin-adjoint.org/en/latest/documentation/index.html) in particular the [mathematical background](http://www.dolfin-adjoint.org/en/latest/documentation/maths/index.html#dolfin-adjoint-mathematical-background)."
   ]
  },
  {
   "cell_type": "markdown",
   "metadata": {},
   "source": [
    "## Running the Forward Model\n",
    "We start with an initial guess of $q = 0$ and run the forward model. \n",
    "We see that we get very different results to the true solution!"
   ]
  },
  {
   "cell_type": "code",
   "execution_count": null,
   "metadata": {},
   "outputs": [],
   "source": [
    "u = firedrake.Function(V)\n",
    "q = firedrake.Function(Q)\n",
    "bc = firedrake.DirichletBC(V, 0, 'on_boundary')\n",
    "F = (k0 * exp(q) * inner(grad(u), grad(v)) - f * v) * dx\n",
    "firedrake.solve(F == 0, u, bc)\n",
    "\n",
    "fig, axes = plt.subplots()\n",
    "axes.set_aspect('equal')\n",
    "colors = firedrake.tripcolor(u, axes=axes, shading='gouraud')\n",
    "fig.colorbar(colors);"
   ]
  },
  {
   "cell_type": "markdown",
   "metadata": {},
   "source": [
    "We now form the full objective functional which we will minimise."
   ]
  },
  {
   "cell_type": "code",
   "execution_count": null,
   "metadata": {},
   "outputs": [],
   "source": [
    "misfit_expr = 0.5 * ((u_obs - firedrake.interpolate(u, P0DG)) / σ)**2\n",
    "α = firedrake.Constant(0.5)\n",
    "regularisation_expr = 0.5 * α**2 * inner(grad(q), grad(q))\n",
    "\n",
    "# Should be able to write firedrake.assemble(misfit + regularisation * dx) but can't yet \n",
    "# because of the meshes being different\n",
    "J = firedrake.assemble(misfit_expr * dx) + firedrake.assemble(regularisation_expr * dx)"
   ]
  },
  {
   "cell_type": "markdown",
   "metadata": {},
   "source": [
    "Next we use firedrake's pyadjoint interface to select our control variable $q$ and form the reduced form of the objective functional $\\hat{J}$."
   ]
  },
  {
   "cell_type": "code",
   "execution_count": null,
   "metadata": {},
   "outputs": [],
   "source": [
    "q̂ = firedrake_adjoint.Control(q)\n",
    "Ĵ = firedrake_adjoint.ReducedFunctional(J, q̂)"
   ]
  },
  {
   "cell_type": "markdown",
   "metadata": {},
   "source": [
    "Now we minimise the reduced objective functional.\n",
    "This takes a few minutes."
   ]
  },
  {
   "cell_type": "code",
   "execution_count": null,
   "metadata": {},
   "outputs": [],
   "source": [
    "q_min = firedrake_adjoint.minimize(Ĵ, method='Newton-CG', options={'disp': True})"
   ]
  },
  {
   "cell_type": "markdown",
   "metadata": {},
   "source": [
    "Let's summarise the results."
   ]
  },
  {
   "cell_type": "code",
   "execution_count": null,
   "metadata": {},
   "outputs": [],
   "source": [
    "fig, axes = plt.subplots(ncols=3, nrows=2, sharex=True, sharey=True, figsize=(20,12), dpi=200)\n",
    "plt.suptitle('Estimating Log-Conductivity $q$ \\n\\\n",
    "where $k = k_0e^q$ and $-\\\\nabla \\\\cdot k \\\\nabla u = f$ for known $f$', fontsize=25)\n",
    "for ax in axes.ravel():\n",
    "    ax.set_aspect('equal')\n",
    "#     ax.get_xaxis().set_visible(False)\n",
    "\n",
    "axes[0, 0].set_title('$u_{true}$', fontsize=25)\n",
    "colors = firedrake.tripcolor(u_true, axes=axes[0, 0], shading='gouraud')\n",
    "fig.colorbar(colors, ax=axes[0, 0])\n",
    "axes[1, 0].set_title('Sampled Noisy $u_{obs}$', fontsize=25)\n",
    "colors = axes[1, 0].scatter(xs[:, 0], xs[:, 1], c=u_obs_vals)\n",
    "fig.colorbar(colors, ax=axes[1, 0])\n",
    "\n",
    "kw = {'vmin': -5, 'vmax': +5, 'shading': 'gouraud'}\n",
    "axes[0, 1].set_title('$q_{true}$', fontsize=25)\n",
    "colors = firedrake.tripcolor(q_true, axes=axes[0, 1], **kw)\n",
    "fig.colorbar(colors, ax=axes[0, 1])\n",
    "axes[1, 1].set_title('Estimated $q_{est}$ from $u_{obs}$', fontsize=25)\n",
    "colors = firedrake.tripcolor(q_min, axes=axes[1, 1], **kw);\n",
    "fig.colorbar(colors, ax=axes[1, 1])\n",
    "\n",
    "axes[0, 2].axis('off')\n",
    "q_err = firedrake.Function(Q).assign(q_min-q_true)\n",
    "l2norm = firedrake.norm(q_err, \"L2\")\n",
    "axes[1, 2].set_title('$q_{est}$ - $q_{true}$', fontsize=25)\n",
    "axes[1, 2].text(0.5, 0.5, f'$L^2$ Norm {l2norm:.2f}', ha='center', fontsize=20)\n",
    "colors = firedrake.tripcolor(q_err, axes=axes[1, 2], **kw);\n",
    "fig.colorbar(colors, ax=axes[1, 2])\n",
    "\n",
    "fig.text(0.5,0.05,r'Functional minimised: $J[u, q] = \\frac{1}{2}\\int_{\\Omega_v}\\left(\\frac{u_{obs} - I(u, \\mathrm{P0DG}(\\Omega_v))}{\\sigma}\\right)^2dx + \\frac{\\alpha^2}{2}\\int_\\Omega|\\nabla q|^2dx$', ha='center', va='center', fontsize=20)\n",
    "\n",
    "plt.savefig('poisson-inverse-conductivity-default-summary.png')"
   ]
  },
  {
   "cell_type": "markdown",
   "metadata": {},
   "source": [
    "# Investigation 1: Comparing to Traditional Methods\n",
    "\n",
    "Here we copy the approach taken in `very-wrong-bad-thing.ipynb` and compare our results.\n",
    "\n",
    "From `very-wrong-bad-thing.ipynb`:\n",
    "> The bad thing that geophysicists will do is directly interpolate from the observational data to the finite element representation and treat this interpolated field as the \"observations\", when really quite a lot has been filled in.\n",
    "It's even worse when you consider the fact that there are edge degrees of freedom too, since we used piecewise quadratic basis functions.\n",
    "Let's try every interpolator in scipy and see what the differences look like."
   ]
  },
  {
   "cell_type": "code",
   "execution_count": null,
   "metadata": {},
   "outputs": [],
   "source": [
    "from scipy.interpolate import (\n",
    "    LinearNDInterpolator,\n",
    "    NearestNDInterpolator,\n",
    "    CloughTocher2DInterpolator,\n",
    "    Rbf,\n",
    ")\n",
    "\n",
    "interpolators = {\n",
    "    'nearest': NearestNDInterpolator(xs, u_obs_vals),\n",
    "    'linear': LinearNDInterpolator(xs, u_obs_vals, fill_value=0.0),\n",
    "    'clough-tocher': CloughTocher2DInterpolator(xs, u_obs_vals, fill_value=0.0),\n",
    "    'gaussian': Rbf(xs[:, 0], xs[:, 1], u_obs_vals, function='gaussian'),\n",
    "}"
   ]
  },
  {
   "cell_type": "markdown",
   "metadata": {},
   "source": [
    "Each interpolator in `interpolators` takes point coordinates `xs` and data `u_obs_values` and returns an object which will provide interpolated values at supplied coordinates which we will call `X`.\n",
    "\n",
    "We supply each interpolator with a coordinates field `X` of every global degree of freedom in the function space `V` from which the solution `u` (which we wish to compare with) is calculated.\n",
    "\n",
    "For each method we calculate a $u_{interpolated}$ value, in the solution space $V$, which we can use in a misfit functional."
   ]
  },
  {
   "cell_type": "code",
   "execution_count": null,
   "metadata": {},
   "outputs": [],
   "source": [
    "# Interpolating the mesh coordinates field (which is a vector function space) \n",
    "# into the vector function space equivalent of our solution space gets us \n",
    "# global DOF values (stored in the dat) which are the coordinates of the global\n",
    "# DOFs of our solution space. This is the necessary coordinates field X.\n",
    "Vc = firedrake.VectorFunctionSpace(mesh, V.ufl_element())\n",
    "X = firedrake.interpolate(mesh.coordinates, Vc).dat.data_ro[:]\n",
    "\n",
    "interpolated_data = {}\n",
    "for method, interpolator in interpolators.items():\n",
    "    u_interpolated = firedrake.Function(V)\n",
    "    u_interpolated.dat.data[:] = interpolator(X[:, 0], X[:, 1])\n",
    "    interpolated_data[method] = u_interpolated\n",
    "    \n",
    "fig, axes = plt.subplots(\n",
    "    nrows=1, ncols=len(interpolated_data), sharex=True, sharey=True\n",
    ")\n",
    "for ax in axes:\n",
    "    ax.set_aspect('equal')\n",
    "    ax.get_xaxis().set_visible(False)\n",
    "    ax.get_yaxis().set_visible(False)\n",
    "    \n",
    "for ax, (method, u_interpolated) in zip(axes, interpolated_data.items()):\n",
    "    firedrake.tripcolor(u_interpolated, axes=ax)\n",
    "    ax.set_title(method)"
   ]
  },
  {
   "cell_type": "markdown",
   "metadata": {},
   "source": [
    "Since we now have $u_{interpolated} \\in V$ our misfit functional looks different:\n",
    "\n",
    "$$J'[u, q] = \n",
    "\\underbrace{\\frac{1}{2}\\int_{\\Omega}\\left(\\frac{u_{interpolated} - u}{\\sigma}\\right)^2dx}_{\\text{model-data misfit}} + \n",
    "\\underbrace{\\frac{\\alpha^2}{2}\\int_\\Omega|\\nabla q|^2dx}_{\\text{regularization}}$$\n",
    "\n",
    "In fact what we've done is changed where we do our interpolation operation such that the model-data misfit is calculated on $V(\\Omega) = \\text{P2CG}(\\Omega)$ rather than $\\text{P0DG}(\\Omega_v)$:\n",
    "\n",
    "$$J'[u, q] =\n",
    "\\underbrace{\\frac{1}{2}\\int_{\\Omega}\\left(\\frac{O(u_{obs}, \\text{P2CG}(\\Omega)) - u}{\\sigma}\\right)^2dx}_{\\text{model-data misfit}} + \n",
    "\\underbrace{\\frac{\\alpha^2}{2}\\int_\\Omega|\\nabla q|^2dx}_{\\text{regularization}}$$\n",
    "\n",
    "where $O$ represents any so-called 'interpolation' method with a result $u_{interpolated} \\in V (=\\text{P2CG}(\\Omega))$ such as the four tested here.\n",
    "**Note for multigrid fans: I suspect that one possible definition is actually the definition of some multigrid operator for going from a coarse to a fine mesh.**\n",
    "\n",
    "Setting up the problem in this way is problematic:\n",
    " 1. The 'interpolation' operation $O$ is **not uniquely defined**: there are an infinite number of ways of getting from point measurements to a continuous field. We therefore expect the choice of $O$ to change the result of minimising $J'$.\n",
    " 2. The 'interpolation' operation $O$ is not defined symbolically within the UFL language. Thankfully we can get away with this since $\\frac{\\partial O(u_{obs}, \\text{P2CG}(\\Omega))}{\\partial u} = 0$ and $\\frac{\\partial O(u_{obs}, \\text{P2CG}(\\Omega))}{\\partial q} = 0$ so they never need to be calculated.\n",
    "\n",
    "Let's see if we can observe different $O$ changing the results in practice:\n",
    "We minimise this functional for each $u_{interpolated}$ (calculated with each method) as before and collect our results:"
   ]
  },
  {
   "cell_type": "code",
   "execution_count": null,
   "metadata": {
    "scrolled": true
   },
   "outputs": [],
   "source": [
    "results = {}\n",
    "# Save our existing result\n",
    "results['point-cloud'] = q_min\n",
    "for method, u_interpolated in interpolated_data.items():\n",
    "    \n",
    "    # Run the forward problem with q = 0 as first guess\n",
    "    u = firedrake.Function(V)\n",
    "    q = firedrake.Function(Q)\n",
    "    bc = firedrake.DirichletBC(V, 0, 'on_boundary')\n",
    "    F = (k0 * exp(q) * inner(grad(u), grad(v)) - f * v) * dx\n",
    "    firedrake.solve(F == 0, u, bc)\n",
    "\n",
    "    # Two terms in the functional\n",
    "    misfit_expr = 0.5 * ((u_interpolated - u) / σ)**2\n",
    "    α = firedrake.Constant(0.5)\n",
    "    regularisation_expr = 0.5 * α**2 * inner(grad(q), grad(q))\n",
    "    \n",
    "    # Only assemble two terms separately for exact comparison with other method!\n",
    "    Jprime = firedrake.assemble(misfit_expr * dx) + firedrake.assemble(regularisation_expr * dx)\n",
    "\n",
    "    # Create reduced functional\n",
    "    q̂ = firedrake_adjoint.Control(q)\n",
    "    Ĵprime = firedrake_adjoint.ReducedFunctional(Jprime, q̂)\n",
    "    \n",
    "    # Minimise reduced functional\n",
    "    q_min = firedrake_adjoint.minimize(\n",
    "        Ĵprime, method='Newton-CG', options={'disp': True}\n",
    "    )\n",
    "    \n",
    "    results[method] = q_min"
   ]
  },
  {
   "cell_type": "markdown",
   "metadata": {},
   "source": [
    "The results are visibly different for each method:"
   ]
  },
  {
   "cell_type": "code",
   "execution_count": null,
   "metadata": {},
   "outputs": [],
   "source": [
    "fig, axes = plt.subplots(\n",
    "    nrows=1, ncols=len(results), sharex=True, sharey=True\n",
    ")\n",
    "for ax in axes:\n",
    "    ax.set_aspect('equal')\n",
    "    ax.get_xaxis().set_visible(False)\n",
    "    ax.get_yaxis().set_visible(False)\n",
    "    \n",
    "for ax, (method, q) in zip(axes, results.items()):\n",
    "    firedrake.tripcolor(q, axes=ax)\n",
    "    ax.set_title(method)"
   ]
  },
  {
   "cell_type": "markdown",
   "metadata": {},
   "source": [
    "To evaluate how much of an effect the different interpolation schemes have, we'll print out a matrix of relative distances between the results the true value of the parameters $q_{\\text{true}}$."
   ]
  },
  {
   "cell_type": "code",
   "execution_count": null,
   "metadata": {
    "scrolled": true
   },
   "outputs": [],
   "source": [
    "results['exact'] = q_true\n",
    "results = list(results.items())\n",
    "\n",
    "print(f\"{'': <15}| \", end=\"\")\n",
    "for method, _ in results:\n",
    "    print(f\"{method: <15}| \", end=\"\")\n",
    "print(f\"{'':-<15}|\" * 6)\n",
    "    \n",
    "for method1, q1 in results:\n",
    "    print(f\"{method1: <15}|\", end=\"\")\n",
    "    for method2, q2 in results:\n",
    "        error = firedrake.norm(q1 - q2) / np.sqrt(firedrake.norm(q1) * firedrake.norm(q2))\n",
    "        print(f\"{error: 14.3f} |\", end=\"\")\n",
    "    print(\"\")\n",
    "\n",
    "# restore results as dict\n",
    "results_dict = {}\n",
    "for method1, q1 in results:\n",
    "    results_dict[method1] = q1"
   ]
  },
  {
   "cell_type": "markdown",
   "metadata": {},
   "source": [
    "Let's plot some summary results"
   ]
  },
  {
   "cell_type": "code",
   "execution_count": null,
   "metadata": {},
   "outputs": [],
   "source": [
    "errors = {}\n",
    "l2errors = {}\n",
    "for method1, q1 in results:\n",
    "    q_err = firedrake.Function(Q).assign(q1-q_true)\n",
    "    l2norm = firedrake.norm(q_err, \"L2\")\n",
    "    errors[method1] = q_err\n",
    "    l2errors[method1] = l2norm"
   ]
  },
  {
   "cell_type": "markdown",
   "metadata": {},
   "source": [
    "The below figure summarises this investigation"
   ]
  },
  {
   "cell_type": "code",
   "execution_count": null,
   "metadata": {},
   "outputs": [],
   "source": [
    "from mpl_toolkits.axes_grid1 import make_axes_locatable\n",
    "\n",
    "ukw = {'vmin': 0.0, 'vmax': +0.2}\n",
    "kw = {'vmin': -4, 'vmax': +4, 'shading': 'gouraud'}\n",
    "title_fontsize = 20\n",
    "text_fontsize = 20\n",
    "\n",
    "\n",
    "fig, axes = plt.subplots(ncols=3, nrows=6, sharex=True, sharey=True, figsize=(20,30), dpi=200)\n",
    "plt.suptitle('Estimating Log-Conductivity $q$ \\n\\\n",
    "where $k = k_0e^q$ and $-\\\\nabla \\\\cdot k \\\\nabla u = f$ for known $f$', fontsize=title_fontsize)\n",
    "for ax in axes.ravel():\n",
    "    ax.set_aspect('equal')\n",
    "#     ax.get_xaxis().set_visible(False)\n",
    "\n",
    "key = 'exact'\n",
    "\n",
    "axes[0, 0].set_title('$u_{true}$', fontsize=title_fontsize)\n",
    "colors = firedrake.tripcolor(u_true, axes=axes[0, 0], shading='gouraud', **ukw)\n",
    "cax = make_axes_locatable(axes[0, 0]).append_axes(\"right\", size=\"5%\", pad=0.05)\n",
    "fig.colorbar(colors, cax=cax)\n",
    "\n",
    "axes[0, 1].set_title('$q_{true}$', fontsize=title_fontsize)\n",
    "colors = firedrake.tripcolor(results_dict[key], axes=axes[0, 1], **kw)\n",
    "cax = make_axes_locatable(axes[0, 1]).append_axes(\"right\", size=\"5%\", pad=0.05)\n",
    "fig.colorbar(colors, cax=cax)\n",
    "\n",
    "axes[0, 2].set_title('$q_{true}-q_{true}$', fontsize=title_fontsize)\n",
    "axes[0, 2].text(0.5, 0.5, f'$L^2$ Norm {l2errors[key]:.2f}', ha='center', fontsize=text_fontsize)\n",
    "colors = firedrake.tripcolor(errors[key], axes=axes[1, 2], **kw);\n",
    "cax = make_axes_locatable(axes[0, 2]).append_axes(\"right\", size=\"5%\", pad=0.05)\n",
    "fig.colorbar(colors, cax=cax)\n",
    "\n",
    "\n",
    "key = 'point-cloud'\n",
    "\n",
    "axes[1, 0].set_title('Sampled Noisy $u_{obs}$', fontsize=title_fontsize)\n",
    "colors = axes[1, 0].scatter(xs[:, 0], xs[:, 1], c=u_obs_vals, vmin=0.0, vmax=0.2)\n",
    "cax = make_axes_locatable(axes[1, 0]).append_axes(\"right\", size=\"5%\", pad=0.05)\n",
    "fig.colorbar(colors, cax=cax)\n",
    "\n",
    "axes[1, 1].set_title('$q_{est}$ from Point Cloud', fontsize=title_fontsize)\n",
    "colors = firedrake.tripcolor(results_dict[key], axes=axes[1, 1], **kw)\n",
    "cax = make_axes_locatable(axes[1, 1]).append_axes(\"right\", size=\"5%\", pad=0.05)\n",
    "fig.colorbar(colors, cax=cax)\n",
    "\n",
    "axes[1, 2].set_title('$q_{est}-q_{true}$', fontsize=title_fontsize)\n",
    "axes[1, 2].text(0.5, 0.5, f'$L^2$ Norm {l2errors[key]:.2f}', ha='center', fontsize=text_fontsize)\n",
    "colors = firedrake.tripcolor(errors[key], axes=axes[1, 2], **kw);\n",
    "cax = make_axes_locatable(axes[1, 2]).append_axes(\"right\", size=\"5%\", pad=0.05)\n",
    "fig.colorbar(colors, cax=cax)\n",
    "\n",
    "\n",
    "key = 'nearest'\n",
    "\n",
    "axes[2, 0].set_title('$u_{interpolated}^{nearest}$', fontsize=title_fontsize)\n",
    "colors = firedrake.tripcolor(interpolated_data[key], axes=axes[2, 0], shading='gouraud', **ukw)\n",
    "cax = make_axes_locatable(axes[2, 0]).append_axes(\"right\", size=\"5%\", pad=0.05)\n",
    "fig.colorbar(colors, cax=cax)\n",
    "\n",
    "axes[2, 1].set_title('$q_{est}^{nearest}$ from $u_{interpolated}^{nearest}$', fontsize=title_fontsize)\n",
    "colors = firedrake.tripcolor(results_dict[key], axes=axes[2, 1], **kw)\n",
    "cax = make_axes_locatable(axes[2, 1]).append_axes(\"right\", size=\"5%\", pad=0.05)\n",
    "fig.colorbar(colors, cax=cax)\n",
    "\n",
    "axes[2, 2].set_title('$q_{est}^{nearest}-q_{true}$', fontsize=title_fontsize)\n",
    "axes[2, 2].text(0.5, 0.5, f'$L^2$ Norm {l2errors[key]:.2f}', ha='center', fontsize=text_fontsize)\n",
    "colors = firedrake.tripcolor(errors[key], axes=axes[2, 2], **kw);\n",
    "cax = make_axes_locatable(axes[2, 2]).append_axes(\"right\", size=\"5%\", pad=0.05)\n",
    "fig.colorbar(colors, cax=cax)\n",
    "\n",
    "\n",
    "key = 'linear'\n",
    "\n",
    "axes[3, 0].set_title('$u_{interpolated}^{linear}$', fontsize=title_fontsize)\n",
    "colors = firedrake.tripcolor(interpolated_data[key], axes=axes[3, 0], shading='gouraud', **ukw)\n",
    "cax = make_axes_locatable(axes[3, 0]).append_axes(\"right\", size=\"5%\", pad=0.05)\n",
    "fig.colorbar(colors, cax=cax)\n",
    "\n",
    "axes[3, 1].set_title('$q_{est}^{linear}$ from $u_{interpolated}^{linear}$', fontsize=title_fontsize)\n",
    "colors = firedrake.tripcolor(results_dict[key], axes=axes[3, 1], **kw)\n",
    "cax = make_axes_locatable(axes[3, 1]).append_axes(\"right\", size=\"5%\", pad=0.05)\n",
    "fig.colorbar(colors, cax=cax)\n",
    "\n",
    "axes[3, 2].set_title('$q_{est}^{linear}-q_{true}$', fontsize=title_fontsize)\n",
    "axes[3, 2].text(0.5, 0.5, f'$L^2$ Norm {l2errors[key]:.2f}', ha='center', fontsize=text_fontsize)\n",
    "colors = firedrake.tripcolor(errors[key], axes=axes[3, 2], **kw);\n",
    "cax = make_axes_locatable(axes[3, 2]).append_axes(\"right\", size=\"5%\", pad=0.05)\n",
    "fig.colorbar(colors, cax=cax)\n",
    "\n",
    "\n",
    "key = 'clough-tocher'\n",
    "\n",
    "axes[4, 0].set_title('$u_{interpolated}^{clough-tocher}$', fontsize=title_fontsize)\n",
    "colors = firedrake.tripcolor(interpolated_data[key], axes=axes[4, 0], shading='gouraud', **ukw)\n",
    "cax = make_axes_locatable(axes[4, 0]).append_axes(\"right\", size=\"5%\", pad=0.05)\n",
    "fig.colorbar(colors, cax=cax)\n",
    "\n",
    "axes[4, 1].set_title('$q_{est}^{clough-tocher}$ from $u_{interpolated}^{clough-tocher}$', fontsize=title_fontsize)\n",
    "colors = firedrake.tripcolor(results_dict[key], axes=axes[4, 1], **kw)\n",
    "cax = make_axes_locatable(axes[4, 1]).append_axes(\"right\", size=\"5%\", pad=0.05)\n",
    "fig.colorbar(colors, cax=cax)\n",
    "\n",
    "axes[4, 2].set_title('$q_{est}^{clough-tocher}-q_{true}$', fontsize=title_fontsize)\n",
    "axes[4, 2].text(0.5, 0.5, f'$L^2$ Norm {l2errors[key]:.2f}', ha='center', fontsize=text_fontsize)\n",
    "colors = firedrake.tripcolor(errors[key], axes=axes[4, 2], **kw);\n",
    "cax = make_axes_locatable(axes[4, 2]).append_axes(\"right\", size=\"5%\", pad=0.05)\n",
    "fig.colorbar(colors, cax=cax)\n",
    "\n",
    "\n",
    "key = 'gaussian'\n",
    "\n",
    "axes[5, 0].set_title('$u_{interpolated}^{gaussian}$', fontsize=title_fontsize)\n",
    "colors = firedrake.tripcolor(interpolated_data[key], axes=axes[5, 0], shading='gouraud', **ukw)\n",
    "cax = make_axes_locatable(axes[5, 0]).append_axes(\"right\", size=\"5%\", pad=0.05)\n",
    "fig.colorbar(colors, cax=cax)\n",
    "\n",
    "axes[5, 1].set_title('$q_{est}^{gaussian}$ from $u_{interpolated}^{gaussian}$', fontsize=title_fontsize)\n",
    "colors = firedrake.tripcolor(results_dict[key], axes=axes[5, 1], **kw)\n",
    "cax = make_axes_locatable(axes[5, 1]).append_axes(\"right\", size=\"5%\", pad=0.05)\n",
    "fig.colorbar(colors, cax=cax)\n",
    "\n",
    "axes[5, 2].set_title('$q_{est}^{gaussian}-q_{true}$', fontsize=title_fontsize)\n",
    "axes[5, 2].text(0.5, 0.5, f'$L^2$ Norm {l2errors[key]:.2f}', ha='center', fontsize=text_fontsize)\n",
    "colors = firedrake.tripcolor(errors[key], axes=axes[5, 2], **kw);\n",
    "cax = make_axes_locatable(axes[5, 2]).append_axes(\"right\", size=\"5%\", pad=0.05)\n",
    "fig.colorbar(colors, cax=cax)\n",
    "\n",
    "# fig.text(0.5,0.05,r'Functional minimised: $J[u, q] = \\frac{1}{2}\\int_{\\Omega_v}\\left(\\frac{u_{obs} - I(u, \\mathrm{P0DG}(\\Omega_v))}{\\sigma}\\right)^2dx + \\frac{\\alpha^2}{2}\\int_\\Omega|\\nabla q|^2dx$', ha='center', va='center', fontsize=20)\n",
    "\n",
    "plt.savefig('investigation-1-summary.png')"
   ]
  },
  {
   "cell_type": "markdown",
   "metadata": {},
   "source": [
    "# Investigation 2: Changing the form of J\n",
    "\n",
    "## A) Getting rid of the halves\n",
    "Let's see what happens if we get rid of our halves from J, i.e.\n",
    "\n",
    "$$J[u, q] = \n",
    "\\underbrace{\\int_{\\Omega_v}\\left(\\frac{u_{obs} - I(u, \\text{P0DG}(\\Omega_v))}{\\sigma}\\right)^2dx}_{\\text{model-data misfit}} + \n",
    "\\underbrace{\\alpha^2\\int_\\Omega|\\nabla q|^2dx}_{\\text{regularization}}$$"
   ]
  },
  {
   "cell_type": "code",
   "execution_count": null,
   "metadata": {},
   "outputs": [],
   "source": [
    "u = firedrake.Function(V)\n",
    "q = firedrake.Function(Q)\n",
    "bc = firedrake.DirichletBC(V, 0, 'on_boundary')\n",
    "F = (k0 * exp(q) * inner(grad(u), grad(v)) - f * v) * dx\n",
    "firedrake.solve(F == 0, u, bc)"
   ]
  },
  {
   "cell_type": "code",
   "execution_count": null,
   "metadata": {},
   "outputs": [],
   "source": [
    "misfit_expr = ((u_obs - firedrake.interpolate(u, P0DG)) / σ)**2\n",
    "α = firedrake.Constant(0.5)\n",
    "regularisation_expr = α**2 * inner(grad(q), grad(q))\n",
    "\n",
    "# Should be able to write firedrake.assemble(misfit + regularisation * dx) but can't yet \n",
    "# because of the meshes being different\n",
    "J = firedrake.assemble(misfit_expr * dx) + firedrake.assemble(regularisation_expr * dx)"
   ]
  },
  {
   "cell_type": "code",
   "execution_count": null,
   "metadata": {},
   "outputs": [],
   "source": [
    "q̂ = firedrake_adjoint.Control(q)\n",
    "Ĵ = firedrake_adjoint.ReducedFunctional(J, q̂)"
   ]
  },
  {
   "cell_type": "code",
   "execution_count": null,
   "metadata": {},
   "outputs": [],
   "source": [
    "q_min = firedrake_adjoint.minimize(Ĵ, method='Newton-CG', options={'disp': True})"
   ]
  },
  {
   "cell_type": "code",
   "execution_count": null,
   "metadata": {},
   "outputs": [],
   "source": [
    "fig, axes = plt.subplots(ncols=3, nrows=2, sharex=True, sharey=True, figsize=(20,12), dpi=200)\n",
    "plt.suptitle('Estimating Log-Conductivity $q$ \\n\\\n",
    "where $k = k_0e^q$ and $-\\\\nabla \\\\cdot k \\\\nabla u = f$ for known $f$', fontsize=25)\n",
    "for ax in axes.ravel():\n",
    "    ax.set_aspect('equal')\n",
    "#     ax.get_xaxis().set_visible(False)\n",
    "\n",
    "axes[0, 0].set_title('$u_{true}$', fontsize=25)\n",
    "colors = firedrake.tripcolor(u_true, axes=axes[0, 0], shading='gouraud')\n",
    "fig.colorbar(colors, ax=axes[0, 0])\n",
    "axes[1, 0].set_title('Sampled Noisy $u_{obs}$', fontsize=25)\n",
    "colors = axes[1, 0].scatter(xs[:, 0], xs[:, 1], c=u_obs_vals)\n",
    "fig.colorbar(colors, ax=axes[1, 0])\n",
    "\n",
    "kw = {'vmin': -5, 'vmax': +5, 'shading': 'gouraud'}\n",
    "axes[0, 1].set_title('$q_{true}$', fontsize=25)\n",
    "colors = firedrake.tripcolor(q_true, axes=axes[0, 1], **kw)\n",
    "fig.colorbar(colors, ax=axes[0, 1])\n",
    "axes[1, 1].set_title('Estimated $q_{est}$ from $u_{obs}$', fontsize=25)\n",
    "colors = firedrake.tripcolor(q_min, axes=axes[1, 1], **kw);\n",
    "fig.colorbar(colors, ax=axes[1, 1])\n",
    "\n",
    "axes[0, 2].axis('off')\n",
    "q_err = firedrake.Function(Q).assign(q_min-q_true)\n",
    "l2norm = firedrake.norm(q_err, \"L2\")\n",
    "axes[1, 2].set_title('$q_{est}$ - $q_{true}$', fontsize=25)\n",
    "axes[1, 2].text(0.5, 0.5, f'$L^2$ Norm {l2norm:.2f}', ha='center', fontsize=20)\n",
    "colors = firedrake.tripcolor(q_err, axes=axes[1, 2], **kw);\n",
    "fig.colorbar(colors, ax=axes[1, 2])\n",
    "\n",
    "fig.text(0.5,0.05,r'Functional minimised: $J[u, q] = \\int_{\\Omega_v}\\left(\\frac{u_{obs} - I(u, \\mathrm{P0DG}(\\Omega_v))}{\\sigma}\\right)^2dx + \\alpha^2\\int_\\Omega|\\nabla q|^2dx$', ha='center', va='center', fontsize=20)\n",
    "\n",
    "plt.savefig('poisson-inverse-conductivity-nohalves-summary.png')"
   ]
  },
  {
   "cell_type": "markdown",
   "metadata": {},
   "source": [
    "### A) Conclusion - It doesn't matter\n",
    "The error is the same!\n",
    "This makes sense - it's a common factor to both terms in $J$ so effects it's total magnitude but not what will minimise it."
   ]
  },
  {
   "cell_type": "markdown",
   "metadata": {},
   "source": [
    "## B) Moving $\\sigma$ to the Regularisation\n",
    "\n",
    "I'm not sure what the point of dividing by the variance $\\sigma^2$ in the misfit term is.\n",
    "Let's try this form of $J$:\n",
    "\n",
    "$$J[u, q] = \n",
    "\\underbrace{\\int_{\\Omega_v}\\left(u_{obs} - I(u, \\text{P0DG}(\\Omega_v))\\right)^2dx}_{\\text{model-data misfit}} + \n",
    "\\underbrace{\\sigma^2 \\alpha^2\\int_\\Omega|\\nabla q|^2dx}_{\\text{regularization}}$$\n",
    "\n",
    "This _should_ give me the same result as before. Let's see."
   ]
  },
  {
   "cell_type": "code",
   "execution_count": null,
   "metadata": {},
   "outputs": [],
   "source": [
    "u = firedrake.Function(V)\n",
    "q = firedrake.Function(Q)\n",
    "bc = firedrake.DirichletBC(V, 0, 'on_boundary')\n",
    "F = (k0 * exp(q) * inner(grad(u), grad(v)) - f * v) * dx\n",
    "firedrake.solve(F == 0, u, bc)\n",
    "\n",
    "misfit_expr = (u_obs - firedrake.interpolate(u, P0DG))**2\n",
    "α = firedrake.Constant(0.5)\n",
    "regularisation_expr = σ**2 * α**2 * inner(grad(q), grad(q))\n",
    "\n",
    "# Should be able to write firedrake.assemble(misfit + regularisation * dx) but can't yet \n",
    "# because of the meshes being different\n",
    "J = firedrake.assemble(misfit_expr * dx) + firedrake.assemble(regularisation_expr * dx)\n",
    "\n",
    "q̂ = firedrake_adjoint.Control(q)\n",
    "Ĵ = firedrake_adjoint.ReducedFunctional(J, q̂)\n",
    "\n",
    "q_min = firedrake_adjoint.minimize(Ĵ, method='Newton-CG', options={'disp': True})"
   ]
  },
  {
   "cell_type": "code",
   "execution_count": null,
   "metadata": {},
   "outputs": [],
   "source": [
    "fig, axes = plt.subplots(ncols=3, nrows=2, sharex=True, sharey=True, figsize=(20,12), dpi=200)\n",
    "plt.suptitle('Estimating Log-Conductivity $q$ \\n\\\n",
    "where $k = k_0e^q$ and $-\\\\nabla \\\\cdot k \\\\nabla u = f$ for known $f$', fontsize=25)\n",
    "for ax in axes.ravel():\n",
    "    ax.set_aspect('equal')\n",
    "#     ax.get_xaxis().set_visible(False)\n",
    "\n",
    "axes[0, 0].set_title('$u_{true}$', fontsize=25)\n",
    "colors = firedrake.tripcolor(u_true, axes=axes[0, 0], shading='gouraud')\n",
    "fig.colorbar(colors, ax=axes[0, 0])\n",
    "axes[1, 0].set_title('Sampled Noisy $u_{obs}$', fontsize=25)\n",
    "colors = axes[1, 0].scatter(xs[:, 0], xs[:, 1], c=u_obs_vals)\n",
    "fig.colorbar(colors, ax=axes[1, 0])\n",
    "\n",
    "kw = {'vmin': -5, 'vmax': +5, 'shading': 'gouraud'}\n",
    "axes[0, 1].set_title('$q_{true}$', fontsize=25)\n",
    "colors = firedrake.tripcolor(q_true, axes=axes[0, 1], **kw)\n",
    "fig.colorbar(colors, ax=axes[0, 1])\n",
    "axes[1, 1].set_title('Estimated $q_{est}$ from $u_{obs}$', fontsize=25)\n",
    "colors = firedrake.tripcolor(q_min, axes=axes[1, 1], **kw);\n",
    "fig.colorbar(colors, ax=axes[1, 1])\n",
    "\n",
    "axes[0, 2].axis('off')\n",
    "q_err = firedrake.Function(Q).assign(q_min-q_true)\n",
    "l2norm = firedrake.norm(q_err, \"L2\")\n",
    "axes[1, 2].set_title('$q_{est}$ - $q_{true}$', fontsize=25)\n",
    "axes[1, 2].text(0.5, 0.5, f'$L^2$ Norm {l2norm:.2f}', ha='center', fontsize=20)\n",
    "colors = firedrake.tripcolor(q_err, axes=axes[1, 2], **kw);\n",
    "fig.colorbar(colors, ax=axes[1, 2])\n",
    "\n",
    "fig.text(0.5,0.05,r'Functional minimised: $J[u, q] = \\int_{\\Omega_v}\\left(u_{obs} - I(u, \\mathrm{P0DG}(\\Omega_v))\\right)^2dx + \\sigma^2 \\alpha^2\\int_\\Omega|\\nabla q|^2dx$', ha='center', va='center', fontsize=20)\n",
    "\n",
    "plt.savefig('poisson-inverse-conductivity-moved-sigma-summary.png')"
   ]
  },
  {
   "cell_type": "markdown",
   "metadata": {},
   "source": [
    "Basically the same, though noteably took fewer iterations to minimise!"
   ]
  },
  {
   "cell_type": "code",
   "execution_count": null,
   "metadata": {},
   "outputs": [],
   "source": []
  }
 ],
 "metadata": {
  "kernelspec": {
   "display_name": "firedrake",
   "language": "python",
   "name": "firedrake"
  },
  "language_info": {
   "codemirror_mode": {
    "name": "ipython",
    "version": 3
   },
   "file_extension": ".py",
   "mimetype": "text/x-python",
   "name": "python",
   "nbconvert_exporter": "python",
   "pygments_lexer": "ipython3",
   "version": "3.8.6"
  }
 },
 "nbformat": 4,
 "nbformat_minor": 4
}
