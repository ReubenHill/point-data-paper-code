{
 "cells": [
  {
   "cell_type": "markdown",
   "metadata": {},
   "source": [
    "In this notebook, we'll look at solving inverse problems for PDEs.\n",
    "This is a well-studied subject but a problem that often goes ignored is what kind of observational data go into it.\n",
    "If the observational data are spatially dense then they can be interpolated to the finite element mesh, and you're free to pretend as if the measurements are a nice continuous field.\n",
    "We'll consider the particular problem of using measurements of the solution $u$ of the Poisson problem\n",
    "\n",
    "$$-\\nabla\\cdot k\\nabla u = q$$\n",
    "\n",
    "to estimate the right-hand side $q$.\n",
    "This can be formulated as the problem of finding a critical point of the functional\n",
    "\n",
    "$$L =\n",
    "\\underbrace{\\frac{1}{2}\\int_\\Omega\\left(\\frac{u - u^o}{\\sigma}\\right)^2dx}_{\\text{model-data misfit}} + \n",
    "\\underbrace{\\frac{\\alpha^2}{2}\\int_\\Omega|\\nabla q|^2dx}_{\\text{regularization}} +\n",
    "\\underbrace{\\int_\\Omega\\left(k\\nabla u\\cdot\\nabla\\lambda - q\\lambda\\right)dx}_{\\text{physics constraint}}$$\n",
    "\n",
    "where $u^o$ are the observational data, and we've introduced a Lagrange multiplier $\\lambda$.\n",
    "This formulation is really nice because the model-data misfit term is an integral that we can easily express in UFL.\n",
    "\n",
    "But the observational data might be sparse compared to the resolution of the finite element grid, in which case interpolating to a finite element basis might be completely inappropriate.\n",
    "In that case the model-data misfit has to be written as a finite sum of evaluations at the measurement points $\\{x_n\\}$:\n",
    "\n",
    "$$E = \\sum_n\\frac{|u(x_n) - u^o(x_n)|^2}{2\\sigma(x_n)^2}.$$\n",
    "\n",
    "This might be more correct, but it's much more difficult to express easily in UFL."
   ]
  },
  {
   "cell_type": "markdown",
   "metadata": {},
   "source": [
    "### Setting up the problem\n",
    "\n",
    "To define the inverse problem, we'll need to:\n",
    "\n",
    "1. Create the right-hand side $q$\n",
    "2. Solve the Poisson equation to get the true value of the field $u$\n",
    "3. Define a point cloud $\\{x_k\\}$ for where the measurements occur\n",
    "4. Synthesize some observations $u^o_k = u(x_k) + \\sigma\\zeta_k$ where $\\sigma$ is the standard deviation of the synthetic measurement error and each $\\zeta_k$ is standard normal"
   ]
  },
  {
   "cell_type": "code",
   "execution_count": null,
   "metadata": {},
   "outputs": [],
   "source": [
    "import firedrake\n",
    "import firedrake_adjoint\n",
    "mesh = firedrake.UnitSquareMesh(32, 32)\n",
    "V = firedrake.FunctionSpace(mesh, family='CG', degree=2)\n",
    "Q = firedrake.FunctionSpace(mesh, family='CG', degree=2)"
   ]
  },
  {
   "cell_type": "markdown",
   "metadata": {},
   "source": [
    "The right-hand side $q$ will be a random trigonometric series."
   ]
  },
  {
   "cell_type": "code",
   "execution_count": null,
   "metadata": {},
   "outputs": [],
   "source": [
    "from firedrake import Constant, cos, sin\n",
    "import numpy as np\n",
    "from numpy import pi as π\n",
    "from numpy import random\n",
    "\n",
    "seed = 1729\n",
    "generator = random.default_rng(seed)\n",
    "\n",
    "degree = 5\n",
    "x = firedrake.SpatialCoordinate(mesh)\n",
    "\n",
    "q_true = firedrake.Function(Q)\n",
    "for k in range(degree):\n",
    "    for l in range(int(np.sqrt(degree**2 - k**2))):\n",
    "        Z = np.sqrt(1 + k**2 + l**2)\n",
    "        ϕ = 2 * π * (k * x[0] + l * x[1])\n",
    "        \n",
    "        A_kl = generator.standard_normal() / Z\n",
    "        B_kl = generator.standard_normal() / Z\n",
    "        \n",
    "        expr = Constant(A_kl) * cos(ϕ) + Constant(B_kl) * sin(ϕ)\n",
    "        mode = firedrake.interpolate(expr, Q)\n",
    "        \n",
    "        q_true += mode"
   ]
  },
  {
   "cell_type": "markdown",
   "metadata": {},
   "source": [
    "Ooh pretty"
   ]
  },
  {
   "cell_type": "code",
   "execution_count": null,
   "metadata": {},
   "outputs": [],
   "source": [
    "import matplotlib.pyplot as plt\n",
    "fig, axes = plt.subplots()\n",
    "axes.set_aspect('equal')\n",
    "colors = firedrake.tripcolor(q_true, axes=axes, shading='gouraud')\n",
    "fig.colorbar(colors);"
   ]
  },
  {
   "cell_type": "markdown",
   "metadata": {},
   "source": [
    "Now let's generate the true solution of the PDE."
   ]
  },
  {
   "cell_type": "code",
   "execution_count": null,
   "metadata": {},
   "outputs": [],
   "source": [
    "from firedrake import inner, grad, dx\n",
    "u = firedrake.Function(V)\n",
    "J = (0.5 * inner(grad(u), grad(u)) - q_true * u) * dx\n",
    "bc = firedrake.DirichletBC(V, 0, 'on_boundary')\n",
    "F = firedrake.derivative(J, u)\n",
    "firedrake.solve(F == 0, u, bc)\n",
    "u_true = u.copy(deepcopy=True)"
   ]
  },
  {
   "cell_type": "markdown",
   "metadata": {},
   "source": [
    "Sort of pretty I guess I dunno"
   ]
  },
  {
   "cell_type": "code",
   "execution_count": null,
   "metadata": {},
   "outputs": [],
   "source": [
    "import matplotlib.pyplot as plt\n",
    "fig, axes = plt.subplots()\n",
    "axes.set_aspect('equal')\n",
    "colors = firedrake.tripcolor(u, axes=axes, cmap='twilight', shading='gouraud')\n",
    "fig.colorbar(colors);"
   ]
  },
  {
   "cell_type": "markdown",
   "metadata": {},
   "source": [
    "Now let's make the observational data."
   ]
  },
  {
   "cell_type": "code",
   "execution_count": null,
   "metadata": {},
   "outputs": [],
   "source": [
    "num_points = 25\n",
    "δs = np.linspace(-0.5, 2, num_points + 1)\n",
    "X, Y = np.meshgrid(δs, δs)\n",
    "xs = np.vstack((X.flatten(), Y.flatten())).T\n",
    "\n",
    "θ = π / 12\n",
    "R = np.array([\n",
    "    [np.cos(θ), -np.sin(θ)],\n",
    "    [np.sin(θ), np.cos(θ)]\n",
    "])\n",
    "\n",
    "xs = np.array([\n",
    "    x for x in (xs - np.array([0.5, 0.5])) @ R\n",
    "    if (0 <= x[0] <= 1) and (0 <= x[1] <= 1)\n",
    "])"
   ]
  },
  {
   "cell_type": "markdown",
   "metadata": {},
   "source": [
    "We'll assume the measurements have a signal-to-noise ratio of 20; you can tweak this."
   ]
  },
  {
   "cell_type": "code",
   "execution_count": null,
   "metadata": {},
   "outputs": [],
   "source": [
    "U = u_true.dat.data_ro[:]\n",
    "u_range = U.max() - U.min()\n",
    "signal_to_noise = 20\n",
    "σ = firedrake.Constant(u_range / signal_to_noise)\n",
    "ζ = generator.standard_normal(len(xs))\n",
    "u_obs = np.array(u_true.at(xs)) + float(σ) * ζ"
   ]
  },
  {
   "cell_type": "code",
   "execution_count": null,
   "metadata": {},
   "outputs": [],
   "source": [
    "from mpl_toolkits import mplot3d\n",
    "fig = plt.figure()\n",
    "axes = fig.add_subplot(projection='3d')\n",
    "firedrake.trisurf(u, axes=axes, alpha=0.25, cmap='twilight')\n",
    "axes.scatter(xs[:, 0], xs[:, 1], u_obs, color='black');"
   ]
  },
  {
   "cell_type": "markdown",
   "metadata": {},
   "source": [
    "Now we'll create a point cloud object and a function space $Z$ on this point cloud."
   ]
  },
  {
   "cell_type": "code",
   "execution_count": null,
   "metadata": {},
   "outputs": [],
   "source": [
    "point_cloud = firedrake.VertexOnlyMesh(mesh, xs)\n",
    "Z = firedrake.FunctionSpace(point_cloud, 'DG', 0)\n",
    "u_o = firedrake.Function(Z)\n",
    "u_o.dat.data[:] = u_obs"
   ]
  },
  {
   "cell_type": "markdown",
   "metadata": {},
   "source": [
    "### Calculating derivatives\n",
    "\n",
    "Now let's see what pyadjoint can and can't do."
   ]
  },
  {
   "cell_type": "code",
   "execution_count": null,
   "metadata": {},
   "outputs": [],
   "source": [
    "u = firedrake.Function(V)\n",
    "q = firedrake.Function(Q)\n",
    "J = (0.5 * inner(grad(u), grad(u)) - q * u) * dx\n",
    "F = firedrake.derivative(J, u)\n",
    "firedrake.solve(F == 0, u, bc)"
   ]
  },
  {
   "cell_type": "code",
   "execution_count": null,
   "metadata": {},
   "outputs": [],
   "source": [
    "Πu = firedrake.interpolate(u, Z)\n",
    "E = 0.5 * ((u_o - Πu) / σ)**2 * dx"
   ]
  },
  {
   "cell_type": "code",
   "execution_count": null,
   "metadata": {},
   "outputs": [],
   "source": [
    "α = firedrake.Constant(0.5)\n",
    "R = 0.5 * α**2 * inner(grad(q), grad(q)) * dx"
   ]
  },
  {
   "cell_type": "markdown",
   "metadata": {},
   "source": [
    "Because `E` and `R` are defined over different domains -- `E` on the point cloud and `R` on the entire mesh -- we can't do `assemble(E + R)`.\n",
    "And yet this seems to work; ours is not to question why."
   ]
  },
  {
   "cell_type": "code",
   "execution_count": null,
   "metadata": {},
   "outputs": [],
   "source": [
    "J = firedrake.assemble(E) + firedrake.assemble(R)"
   ]
  },
  {
   "cell_type": "code",
   "execution_count": null,
   "metadata": {},
   "outputs": [],
   "source": [
    "q̂ = firedrake_adjoint.Control(q)\n",
    "Ĵ = firedrake_adjoint.ReducedFunctional(J, q̂)"
   ]
  },
  {
   "cell_type": "markdown",
   "metadata": {},
   "source": [
    "### Minimizing the objective\n",
    "\n",
    "We get a NotImplementedError if we try this with Newton-CG.\n",
    "For now this uses BFGS, we should just make it talk to ROL."
   ]
  },
  {
   "cell_type": "code",
   "execution_count": null,
   "metadata": {},
   "outputs": [],
   "source": [
    "q_min = firedrake_adjoint.minimize(Ĵ, method='BFGS')"
   ]
  },
  {
   "cell_type": "markdown",
   "metadata": {},
   "source": [
    "Possibly a little over-regularized but it looks ok if you take your glasses off."
   ]
  },
  {
   "cell_type": "code",
   "execution_count": null,
   "metadata": {},
   "outputs": [],
   "source": [
    "fig, axes = plt.subplots(ncols=2, sharex=True, sharey=True)\n",
    "for ax in axes:\n",
    "    ax.set_aspect('equal')\n",
    "    ax.get_xaxis().set_visible(False)\n",
    "\n",
    "kw = {'vmin': -5, 'vmax': +5, 'shading': 'gouraud'}\n",
    "axes[0].set_title('Estimated')\n",
    "firedrake.tripcolor(q_min, axes=axes[0], **kw)\n",
    "axes[1].set_title('True')\n",
    "firedrake.tripcolor(q_true, axes=axes[1], **kw);"
   ]
  }
 ],
 "metadata": {
  "kernelspec": {
   "display_name": "firedrake",
   "language": "python",
   "name": "firedrake"
  },
  "language_info": {
   "codemirror_mode": {
    "name": "ipython",
    "version": 3
   },
   "file_extension": ".py",
   "mimetype": "text/x-python",
   "name": "python",
   "nbconvert_exporter": "python",
   "pygments_lexer": "ipython3",
   "version": "3.7.4"
  }
 },
 "nbformat": 4,
 "nbformat_minor": 4
}
