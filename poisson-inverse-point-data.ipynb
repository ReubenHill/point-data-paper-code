{
 "cells": [
  {
   "cell_type": "markdown",
   "metadata": {},
   "source": [
    "In this notebook, we'll look at solving coefficient inverse problems for PDEs.\n",
    "This is a well-studied subject but a problem that often goes ignored is what kind of observational data go into it.\n",
    "If the observational data are spatially dense then they can be interpolated to the finite element mesh, and you're free to pretend as if the measurements are a nice continuous field.\n",
    "We'll consider the particular problem of using measurements of the solution $u$ of the Poisson problem\n",
    "\n",
    "$$-\\nabla\\cdot k\\nabla u = q$$\n",
    "\n",
    "to estimate the right-hand side $q$.\n",
    "This can be formulated as the problem of finding a critical point of the functional\n",
    "\n",
    "$$L =\n",
    "\\underbrace{\\frac{1}{2}\\int_\\Omega\\left(\\frac{u - u^o}{\\sigma}\\right)^2dx}_{\\text{model-data misfit}} + \n",
    "\\underbrace{\\frac{\\alpha^2}{2}\\int_\\Omega|\\nabla q|^2dx}_{\\text{regularization}} +\n",
    "\\underbrace{\\int_\\Omega\\left(k\\nabla u\\cdot\\nabla\\lambda - q\\lambda\\right)dx}_{\\text{physics constraint}}$$\n",
    "\n",
    "where $u^o$ are the observational data, and we've introduced a Lagrange multiplier $\\lambda$.\n",
    "This formulation is really nice because the model-data misfit term is an integral that we can easily express in UFL.\n",
    "\n",
    "But the observational data might be sparse compared to the resolution of the finite element grid, in which case interpolating to a finite element basis might be completely inappropriate.\n",
    "In that case the model-data misfit has to be written as a finite sum of evaluations at the measurement points $\\{x_n\\}$:\n",
    "\n",
    "$$E = \\sum_n\\frac{|u(x_n) - u^o(x_n)|^2}{2\\sigma(x_n)^2}.$$\n",
    "\n",
    "This might be more correct, but it's much more difficult to express easily in UFL."
   ]
  },
  {
   "cell_type": "code",
   "execution_count": null,
   "metadata": {},
   "outputs": [],
   "source": [
    "import firedrake\n",
    "mesh = firedrake.UnitSquareMesh(32, 32)\n",
    "V = firedrake.FunctionSpace(mesh, family='CG', degree=2)\n",
    "Q = firedrake.FunctionSpace(mesh, family='CG', degree=2)"
   ]
  },
  {
   "cell_type": "markdown",
   "metadata": {},
   "source": [
    "The right-hand side $q$ will be a random trigonometric series."
   ]
  },
  {
   "cell_type": "code",
   "execution_count": null,
   "metadata": {},
   "outputs": [],
   "source": [
    "from firedrake import Constant, cos, sin\n",
    "import numpy as np\n",
    "from numpy import pi as π\n",
    "from numpy import random\n",
    "\n",
    "seed = 1729\n",
    "generator = random.default_rng(seed)\n",
    "\n",
    "degree = 5\n",
    "x = firedrake.SpatialCoordinate(mesh)\n",
    "\n",
    "q = firedrake.Function(Q)\n",
    "for k in range(degree):\n",
    "    for l in range(int(np.sqrt(degree**2 - k**2))):\n",
    "        Z = np.sqrt(1 + k**2 + l**2)\n",
    "        ϕ = 2 * π * (k * x[0] + l * x[1])\n",
    "        \n",
    "        A_kl = generator.standard_normal() / Z\n",
    "        B_kl = generator.standard_normal() / Z\n",
    "        \n",
    "        expr = Constant(A_kl) * cos(ϕ) + Constant(B_kl) * sin(ϕ)\n",
    "        mode = firedrake.interpolate(expr, Q)\n",
    "        \n",
    "        q += mode"
   ]
  },
  {
   "cell_type": "markdown",
   "metadata": {},
   "source": [
    "Ooh pretty"
   ]
  },
  {
   "cell_type": "code",
   "execution_count": null,
   "metadata": {},
   "outputs": [],
   "source": [
    "import matplotlib.pyplot as plt\n",
    "fig, axes = plt.subplots()\n",
    "axes.set_aspect('equal')\n",
    "colors = firedrake.tripcolor(q, axes=axes, shading='gouraud')\n",
    "fig.colorbar(colors);"
   ]
  },
  {
   "cell_type": "markdown",
   "metadata": {},
   "source": [
    "Now let's generate the true solution of the PDE."
   ]
  },
  {
   "cell_type": "code",
   "execution_count": null,
   "metadata": {},
   "outputs": [],
   "source": [
    "from firedrake import inner, grad, dx\n",
    "u = firedrake.Function(V)\n",
    "J = (0.5 * inner(grad(u), grad(u)) - q * u) * dx\n",
    "bc = firedrake.DirichletBC(V, 0, 'on_boundary')\n",
    "F = firedrake.derivative(J, u)\n",
    "firedrake.solve(F == 0, u, bc)\n",
    "u_true = u.copy(deepcopy=True)"
   ]
  },
  {
   "cell_type": "markdown",
   "metadata": {},
   "source": [
    "Sort of pretty I guess I dunno"
   ]
  },
  {
   "cell_type": "code",
   "execution_count": null,
   "metadata": {},
   "outputs": [],
   "source": [
    "import matplotlib.pyplot as plt\n",
    "fig, axes = plt.subplots()\n",
    "axes.set_aspect('equal')\n",
    "colors = firedrake.tripcolor(u, axes=axes, cmap='twilight', shading='gouraud')\n",
    "fig.colorbar(colors);"
   ]
  },
  {
   "cell_type": "markdown",
   "metadata": {},
   "source": [
    "Now let's make the observational data."
   ]
  },
  {
   "cell_type": "code",
   "execution_count": null,
   "metadata": {},
   "outputs": [],
   "source": [
    "num_points = 25\n",
    "δs = np.linspace(-0.5, 2, num_points + 1)\n",
    "X, Y = np.meshgrid(δs, δs)\n",
    "xs = np.vstack((X.flatten(), Y.flatten())).T\n",
    "\n",
    "θ = π / 12\n",
    "Q = np.array([\n",
    "    [np.cos(θ), -np.sin(θ)],\n",
    "    [np.sin(θ), np.cos(θ)]\n",
    "])\n",
    "\n",
    "xs = np.array([\n",
    "    x for x in (xs - np.array([0.5, 0.5])) @ Q\n",
    "    if (0 <= x[0] <= 1) and (0 <= x[1] <= 1)\n",
    "])"
   ]
  },
  {
   "cell_type": "markdown",
   "metadata": {},
   "source": [
    "We'll assume the measurements have a signal-to-noise ratio of 20; you can tweak this."
   ]
  },
  {
   "cell_type": "code",
   "execution_count": null,
   "metadata": {},
   "outputs": [],
   "source": [
    "U = u_true.dat.data_ro[:]\n",
    "u_range = U.max() - U.min()\n",
    "signal_to_noise = 20\n",
    "σ = u_range / signal_to_noise\n",
    "ζ = generator.standard_normal(len(xs))\n",
    "u_obs = np.array(u_true.at(xs)) + σ * ζ"
   ]
  },
  {
   "cell_type": "code",
   "execution_count": null,
   "metadata": {},
   "outputs": [],
   "source": [
    "from mpl_toolkits import mplot3d\n",
    "fig = plt.figure()\n",
    "axes = fig.add_subplot(projection='3d')\n",
    "firedrake.trisurf(u, axes=axes, alpha=0.25, cmap='twilight')\n",
    "axes.scatter(xs[:, 0], xs[:, 1], u_obs, color='black');"
   ]
  },
  {
   "cell_type": "markdown",
   "metadata": {},
   "source": [
    "Now we'll create a point cloud object and a function space $Z$ on this point cloud."
   ]
  },
  {
   "cell_type": "code",
   "execution_count": null,
   "metadata": {},
   "outputs": [],
   "source": [
    "point_cloud = firedrake.VertexOnlyMesh(mesh, xs)\n",
    "Z = firedrake.FunctionSpace(point_cloud, 'DG', 0)\n",
    "u_o = firedrake.Function(Z)\n",
    "u_o.dat.data[:] = u_obs"
   ]
  },
  {
   "cell_type": "markdown",
   "metadata": {},
   "source": [
    "Next we need to create the operator $E$ that evaluates functions in $V$ on the point cloud."
   ]
  },
  {
   "cell_type": "code",
   "execution_count": null,
   "metadata": {},
   "outputs": [],
   "source": [
    "ϕ = firedrake.TestFunction(V)\n",
    "interpolator = firedrake.Interpolator(ϕ, Z)\n",
    "op2_mat = interpolator.callable()\n",
    "E = op2_mat.handle\n",
    "print(f'Type of E: {type(E)}')\n",
    "print(f'Size of E: {E.getSize()}')"
   ]
  },
  {
   "cell_type": "markdown",
   "metadata": {},
   "source": [
    "The whole objective functional can be written as\n",
    "\n",
    "$$J = \\frac{1}{2}(Eu - u^o)^*\\Sigma^{-1}(Eu - u^o) + R(q) + \\langle F(u, q), \\lambda\\rangle$$\n",
    "\n",
    "where $\\Sigma = \\text{diag}([\\sigma, \\ldots, \\sigma])$ is the covariance matrix.\n",
    "Mathematically, finding a critical point of this functional is a perfectly nice well-defined problem.\n",
    "But we can't express it directly using UFL yet because of the first term.\n",
    "We can evaluate the first term and its derivatives, we just get the answer as PETSc data structures instead.\n",
    "\n",
    "To hack around this difficulty, we'll use a trick from the optimization playbook called *Moreau-Yosida regularization*.\n",
    "First, we'll introduce an auxiliary variable $v \\in V$ and try to find a critical point of\n",
    "\n",
    "$$J' = \\frac{1}{2}(Ev - u^o)^*\\Sigma^{-1}(Ev - u^o) + R(q) + \\langle F(u, q), \\lambda\\rangle$$\n",
    "\n",
    "subject to the constraint that\n",
    "\n",
    "$$u = v.$$\n",
    "\n",
    "This is called the *consensus constraint*.\n",
    "The reformulated problem is completely trivial so at this juncture you might wonder what we've actually accomplished here.\n",
    "The answer is that we can choose clever ways to enforce the constraint.\n",
    "We can then split our original, difficult problem into two easy ones.\n",
    "A blunt approach is the penalty method, which gives the new objective\n",
    "\n",
    "$$J_\\rho = \\frac{1}{2}(Ev - u^o)^*\\Sigma^{-1}(Ev - u^o) + \\frac{\\rho}{2}\\|u - v\\|_M^2 + R(q) + \\langle F(u, q), \\lambda\\rangle.$$\n",
    "\n",
    "It's up to us to choose what operator $M$ defines the norm we use for the penalty.\n",
    "This will be a crucial point soon.\n",
    "\n",
    "##### The $v$ sub-problem.\n",
    "\n",
    "Suppose we want to minimize $J_\\rho$ for $v$ with all the other variables held fixed.\n",
    "The reduced objective functional is\n",
    "\n",
    "$$j_\\rho(v) = \\frac{1}{2}(Ev - u^o)^*\\Sigma^{-1}(Ev - u^o) + \\frac{\\rho}{2}\\|u - v\\|_M^2,$$\n",
    "\n",
    "which is convex and quadratic.\n",
    "The conditions for optimality are a linear system which is easy to assemble using petsc4py.\n",
    "The optimality system is\n",
    "\n",
    "$$(E^*\\Sigma^{-1}E + \\rho M)v = E^*\\Sigma^{-1}u^o + \\rho Mu.$$\n",
    "\n",
    "This system is strictly positive-definite.\n",
    "For large values of $\\rho$, we can choose a preconditioner based on whatever would work for $M$.\n",
    "\n",
    "##### The $u$, $q$, $\\lambda$ sub-problem.\n",
    "\n",
    "Having solved the $v$ sub-problem, we'll then try to find a critical point of the reduced objective\n",
    "\n",
    "$$j_\\rho(u, q, \\lambda) = \\frac{\\rho}{2}\\|u - v\\|_M^2 + R(q) + \\langle F(u, q), \\lambda\\rangle.$$\n",
    "\n",
    "This looks like we're solving an inverse problem, only $v$ are now the observational data and we're measuring the misfit in a different metric.\n",
    "The really important part is that we get to pick $M$.\n",
    "We could just use the $L^2$-norm, but a smarter choice is\n",
    "\n",
    "$$\\|u - v\\|_M^2 = \\int_\\Omega\\left\\{(u - v)^2 + \\ell^2|\\nabla(u - v)|^2\\right\\}dx$$\n",
    "\n",
    "where $\\ell \\approx \\text{diameter}(\\Omega)$.\n",
    "This is the norm of the function space $H^1(\\Omega)$ where $u$ lives.\n",
    "Most importantly, **every term of the objective can easily be expressed within UFL.**\n",
    "We can use pyadjoint and all our old tricks to solve it.\n",
    "\n",
    "##### The algorithm.\n",
    "\n",
    "The algorithm we'll use is to alternate between solving the two sub-problems:\n",
    "\n",
    "1. With $u$, $q$, and $\\lambda$ held fixed, solve the $v$ sub-problem using petsc4py.\n",
    "2. With $v$ held fixed, solve the $u$, $q$, $\\lambda$ sub-problem using pyadjoint.\n",
    "\n",
    "This alternating strategy converges under mild assumptions."
   ]
  },
  {
   "cell_type": "code",
   "execution_count": null,
   "metadata": {},
   "outputs": [],
   "source": [
    "ψ = firedrake.TrialFunction(V)\n",
    "ℓ = firedrake.Constant(1.0)\n",
    "m = (ϕ * ψ + ℓ**2 * inner(grad(ϕ), grad(ψ))) * dx\n",
    "M = firedrake.assemble(m).M.handle"
   ]
  },
  {
   "cell_type": "code",
   "execution_count": null,
   "metadata": {},
   "outputs": [],
   "source": [
    "ϕ, ψ = firedrake.TestFunction(Z), firedrake.TrialFunction(Z)\n",
    "I = firedrake.assemble(ϕ * ψ / σ**2 * dx).M.handle"
   ]
  },
  {
   "cell_type": "code",
   "execution_count": null,
   "metadata": {},
   "outputs": [],
   "source": [
    "ρ = 1e-2\n",
    "K = I.PtAP(E) + ρ * M"
   ]
  },
  {
   "cell_type": "markdown",
   "metadata": {},
   "source": [
    "The variable `F` will store the right-hand side.\n",
    "First, we'll sum up the parts coming from the misfit in the $M$-norm between $v$ and $u$ (which is initialized to 0.)"
   ]
  },
  {
   "cell_type": "code",
   "execution_count": null,
   "metadata": {},
   "outputs": [],
   "source": [
    "F = M.createVecRight()\n",
    "with u.dat.vec_ro as U:\n",
    "    M.mult(U, F)\n",
    "    \n",
    "F *= ρ"
   ]
  },
  {
   "cell_type": "markdown",
   "metadata": {},
   "source": [
    "Then we'll add the term describing the misfit between $v$ and $u^o$ at the observation points, which uses the evaluation operator $E$."
   ]
  },
  {
   "cell_type": "code",
   "execution_count": null,
   "metadata": {},
   "outputs": [],
   "source": [
    "G = I.createVecRight()\n",
    "with u_o.dat.vec_ro as U_o:\n",
    "    I.mult(U_o, G)\n",
    "    E.multTransposeAdd(G, F, F)"
   ]
  },
  {
   "cell_type": "markdown",
   "metadata": {},
   "source": [
    "Now we'll set up and solve a linear system with PETSc."
   ]
  },
  {
   "cell_type": "code",
   "execution_count": null,
   "metadata": {},
   "outputs": [],
   "source": [
    "from petsc4py import PETSc\n",
    "ksp = PETSc.KSP().create(firedrake.COMM_WORLD)\n",
    "ksp.setOperators(K)\n",
    "ksp.setType(PETSc.KSP.Type.CG)\n",
    "pc = PETSc.PC().create(firedrake.COMM_WORLD)\n",
    "pc.setType(PETSc.PC.Type.JACOBI)\n",
    "pc.setOperators(K)\n",
    "ksp.setPC(pc)"
   ]
  },
  {
   "cell_type": "code",
   "execution_count": null,
   "metadata": {},
   "outputs": [],
   "source": [
    "v = firedrake.Function(V)\n",
    "with v.dat.vec as vv:\n",
    "    ksp.solve(F, vv)"
   ]
  },
  {
   "cell_type": "markdown",
   "metadata": {},
   "source": [
    "If we plot the results, we get something that looks like we interpolated the observational data.\n",
    "But there are some string-of-pearls type artifacts that look a lot like what happens when you interpolate sparse point data using inverse distance weighting, which is basically what we just did."
   ]
  },
  {
   "cell_type": "code",
   "execution_count": null,
   "metadata": {},
   "outputs": [],
   "source": [
    "fig, axes = plt.subplots()\n",
    "axes.set_aspect('equal')\n",
    "colors = firedrake.tripcolor(v, cmap='twilight', shading='gouraud', axes=axes)\n",
    "fig.colorbar(colors);"
   ]
  },
  {
   "cell_type": "markdown",
   "metadata": {},
   "source": [
    "Now that magic happens..."
   ]
  }
 ],
 "metadata": {
  "kernelspec": {
   "display_name": "firedrake",
   "language": "python",
   "name": "firedrake"
  },
  "language_info": {
   "codemirror_mode": {
    "name": "ipython",
    "version": 3
   },
   "file_extension": ".py",
   "mimetype": "text/x-python",
   "name": "python",
   "nbconvert_exporter": "python",
   "pygments_lexer": "ipython3",
   "version": "3.7.4"
  }
 },
 "nbformat": 4,
 "nbformat_minor": 4
}
