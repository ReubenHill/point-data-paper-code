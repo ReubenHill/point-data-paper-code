{
 "cells": [
  {
   "cell_type": "markdown",
   "metadata": {},
   "source": [
    "Now we'll look at a more interesting and clearly nonlinear example -- inferring an unknown conductivity rather than an unknown right-hand side."
   ]
  },
  {
   "cell_type": "code",
   "execution_count": null,
   "metadata": {},
   "outputs": [],
   "source": [
    "import firedrake\n",
    "import firedrake_adjoint\n",
    "mesh = firedrake.UnitSquareMesh(32, 32)\n",
    "V = firedrake.FunctionSpace(mesh, family='CG', degree=2)\n",
    "Q = firedrake.FunctionSpace(mesh, family='CG', degree=2)"
   ]
  },
  {
   "cell_type": "code",
   "execution_count": null,
   "metadata": {},
   "outputs": [],
   "source": [
    "from firedrake import Constant, cos, sin\n",
    "import numpy as np\n",
    "from numpy import pi as π\n",
    "from numpy import random\n",
    "\n",
    "seed = 1729\n",
    "generator = random.default_rng(seed)\n",
    "\n",
    "degree = 5\n",
    "x = firedrake.SpatialCoordinate(mesh)\n",
    "\n",
    "q_true = firedrake.Function(Q)\n",
    "for k in range(degree):\n",
    "    for l in range(int(np.sqrt(degree**2 - k**2))):\n",
    "        Z = np.sqrt(1 + k**2 + l**2)\n",
    "        ϕ = 2 * π * (k * x[0] + l * x[1])\n",
    "        \n",
    "        A_kl = generator.standard_normal() / Z\n",
    "        B_kl = generator.standard_normal() / Z\n",
    "        \n",
    "        expr = Constant(A_kl) * cos(ϕ) + Constant(B_kl) * sin(ϕ)\n",
    "        mode = firedrake.interpolate(expr, Q)\n",
    "        \n",
    "        q_true += mode"
   ]
  },
  {
   "cell_type": "markdown",
   "metadata": {},
   "source": [
    "Now to get the true solution of the PDE."
   ]
  },
  {
   "cell_type": "code",
   "execution_count": null,
   "metadata": {},
   "outputs": [],
   "source": [
    "from firedrake import exp, inner, grad, dx\n",
    "u = firedrake.Function(V)\n",
    "f = Constant(1.0)\n",
    "J = (0.5 * exp(q_true) * inner(grad(u), grad(u)) - f * u) * dx\n",
    "bc = firedrake.DirichletBC(V, 0, 'on_boundary')\n",
    "F = firedrake.derivative(J, u)\n",
    "firedrake.solve(F == 0, u, bc)\n",
    "u_true = u.copy(deepcopy=True)"
   ]
  },
  {
   "cell_type": "code",
   "execution_count": null,
   "metadata": {},
   "outputs": [],
   "source": [
    "import matplotlib.pyplot as plt\n",
    "fig, axes = plt.subplots()\n",
    "axes.set_aspect('equal')\n",
    "colors = firedrake.tripcolor(u_true, axes=axes, shading='gouraud')\n",
    "fig.colorbar(colors);"
   ]
  }
 ],
 "metadata": {
  "kernelspec": {
   "display_name": "firedrake",
   "language": "python",
   "name": "firedrake"
  },
  "language_info": {
   "codemirror_mode": {
    "name": "ipython",
    "version": 3
   },
   "file_extension": ".py",
   "mimetype": "text/x-python",
   "name": "python",
   "nbconvert_exporter": "python",
   "pygments_lexer": "ipython3",
   "version": "3.7.4"
  }
 },
 "nbformat": 4,
 "nbformat_minor": 4
}
